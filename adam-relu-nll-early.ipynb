{
 "cells": [
  {
   "cell_type": "markdown",
   "id": "3942fb07",
   "metadata": {},
   "source": [
    "# Part 1"
   ]
  },
  {
   "cell_type": "code",
   "execution_count": 1,
   "id": "4e3da76f",
   "metadata": {},
   "outputs": [],
   "source": [
    "import numpy as np                            # numpy for numerical computation\n",
    "import torch                                  # Torch for Pytorch base (for deep learning)\n",
    "import torchvision                            # TorchVision for image processing\n",
    "import matplotlib.pyplot as plt               # Plotting tools\n",
    "from time import time                         # Timing tools\n",
    "from torchvision import datasets, transforms  # Import dataset and transform functions\n",
    "from torch import nn, optim                   # Import neural network and optimization classes\n",
    "import cv2                                    # Import computer vision tools\n",
    "import torch.optim.lr_scheduler as lr_scheduler"
   ]
  },
  {
   "cell_type": "code",
   "execution_count": 2,
   "id": "c788512a",
   "metadata": {},
   "outputs": [],
   "source": [
    "transform = transforms.Compose([transforms.ToTensor(),\n",
    "                              transforms.Normalize((0.5,), (0.5,)),\n",
    "                              ])\n",
    "# transform is a global class object that does the transform for you."
   ]
  },
  {
   "cell_type": "code",
   "execution_count": 3,
   "id": "b8cba739",
   "metadata": {},
   "outputs": [],
   "source": [
    "# Download the training data and the validation data\n",
    "trainset    = datasets.MNIST('C:/Users/Stanley Chan/Dropbox/Python/ColorSpace/', download=True, train=True, transform=transform)\n",
    "valset      = datasets.MNIST('C:/Users/Stanley Chan/Dropbox/Python/ColorSpace/', download=True, train=False, transform=transform)\n",
    "testset     = datasets.MNIST(root = 'data', train = False, download=True, transform=transform)\n",
    "\n",
    "# Define the loader that loads images into the correct format\n",
    "trainloader = torch.utils.data.DataLoader(trainset, batch_size=64, shuffle=True)\n",
    "valloader   = torch.utils.data.DataLoader(valset, batch_size=64, shuffle=True)\n",
    "testloader  = torch.utils.data.DataLoader(testset, batch_size=1000, shuffle=True)\n",
    "\n",
    "# Create iteration objection, images, and labels\n",
    "dataiter = iter(trainloader)\n",
    "images, labels = dataiter.next()"
   ]
  },
  {
   "cell_type": "code",
   "execution_count": 4,
   "id": "91f0eab6",
   "metadata": {},
   "outputs": [],
   "source": [
    "def validation(model, valid_loader, criterion):\n",
    "    # Settings\n",
    "    loss_total = 0\n",
    "\n",
    "    # Test validation data\n",
    "    with torch.no_grad():\n",
    "        for data,labels in valid_loader:\n",
    "            inputs = data.view(data.shape[0], -1)\n",
    "\n",
    "            outputs = model(inputs)\n",
    "            loss = criterion(outputs, labels)\n",
    "            loss_total += loss.item()\n",
    "\n",
    "    return loss_total / len(valid_loader)"
   ]
  },
  {
   "cell_type": "markdown",
   "id": "07b0c101",
   "metadata": {},
   "source": [
    "# Part 4 Construct Your Model"
   ]
  },
  {
   "cell_type": "code",
   "execution_count": 5,
   "id": "8d9717f9",
   "metadata": {},
   "outputs": [
    {
     "data": {
      "text/plain": [
       "Parameter containing:\n",
       "tensor([[ 4.4027e-01,  2.5405e-01,  2.6630e-01,  2.6577e-01, -2.7963e-01,\n",
       "          9.0584e-02,  4.7563e-01, -2.7185e-01, -2.1006e-01,  3.5336e-03,\n",
       "          2.7866e-02,  3.1610e-02,  4.3082e-01, -6.7518e-02, -3.9658e-04,\n",
       "          1.4873e-01, -9.3950e-02, -1.9951e-01, -6.5934e-02,  5.9969e-02,\n",
       "         -2.7129e-01, -2.0931e-01, -1.5509e-01,  8.0420e-02, -1.1546e-01,\n",
       "         -4.1617e-01, -2.0517e-01, -7.2981e-02, -1.5172e-02, -2.0395e-01,\n",
       "          2.1389e-01,  6.8967e-02],\n",
       "        [-2.2181e-02,  2.3653e-02, -1.3756e-02,  2.3385e-01,  1.6943e-01,\n",
       "         -1.1315e-01,  1.7748e-01, -1.7383e-01, -4.3972e-01,  2.7963e-01,\n",
       "          8.7452e-02,  2.6875e-01,  3.3589e-01,  2.3996e-02, -1.5436e-01,\n",
       "          7.5931e-02, -1.1091e-01,  8.8540e-02,  3.5508e-01, -4.6693e-02,\n",
       "         -5.4696e-02,  1.9362e-01, -2.1720e-02,  1.0231e-01, -4.6435e-02,\n",
       "          4.1029e-03,  8.3697e-02,  1.1606e-01,  1.5666e-01,  1.1782e-02,\n",
       "          9.8550e-02, -1.9211e-01],\n",
       "        [-5.4353e-02, -7.5436e-02, -5.4796e-01,  1.2861e-01, -1.2483e-01,\n",
       "          3.5129e-02,  2.4828e-01, -7.8534e-02,  3.3818e-02, -1.9591e-01,\n",
       "          1.3000e-01,  3.0751e-01, -7.3119e-02,  1.3610e-01, -8.3220e-02,\n",
       "          7.9213e-02,  6.3118e-01, -3.2719e-01,  1.5802e-01,  9.6550e-02,\n",
       "         -3.5713e-01,  1.4313e-01, -9.5055e-02,  2.5494e-01,  8.5264e-02,\n",
       "         -2.8326e-01,  2.9838e-01, -1.2743e-01,  4.8072e-01, -1.5906e-01,\n",
       "          1.1797e-01,  2.8859e-01],\n",
       "        [ 3.4010e-01,  2.3636e-02, -1.5473e-01,  1.0716e-01, -1.2976e-01,\n",
       "          2.2172e-01,  2.2831e-02,  4.9948e-02,  2.7526e-01,  9.1661e-02,\n",
       "          2.2628e-01, -9.2358e-02,  3.4286e-01, -1.6045e-01,  2.4299e-01,\n",
       "         -3.6940e-02,  1.3312e-01,  4.8663e-02, -2.2725e-01, -1.5439e-01,\n",
       "          3.1144e-02,  1.2191e-01,  3.2743e-01, -1.0922e-01, -4.9290e-01,\n",
       "         -5.2935e-01,  2.2196e-01, -2.1771e-01,  2.3848e-01, -1.5285e-01,\n",
       "         -1.3516e-01,  2.3136e-01],\n",
       "        [ 2.6164e-01,  1.8993e-01,  1.6803e-01, -1.3714e-01, -1.8710e-01,\n",
       "          3.7218e-01, -2.5568e-02,  6.5409e-02, -1.0446e-01, -1.7409e-02,\n",
       "          6.7721e-02,  8.5924e-02, -1.5266e-01, -3.7931e-01,  2.4673e-01,\n",
       "          3.9925e-01,  7.4226e-02, -2.5425e-01,  2.4833e-01, -7.0029e-02,\n",
       "         -1.3978e-01,  1.9293e-01, -2.0656e-01, -3.2588e-01, -2.9362e-01,\n",
       "          3.8891e-01, -7.8408e-02,  4.5628e-01, -1.0354e-01, -2.2349e-01,\n",
       "          1.8362e-01, -6.5502e-02],\n",
       "        [ 1.7831e-01, -2.7437e-01,  2.1578e-01, -6.9019e-02, -7.9099e-02,\n",
       "          5.1599e-01,  2.1706e-01, -4.3997e-02, -3.1124e-01, -1.0517e-01,\n",
       "          3.2458e-01,  2.8030e-02, -2.9104e-02, -1.9839e-01,  1.2145e-01,\n",
       "          1.1344e-01, -7.0944e-02, -1.2727e-01, -7.4742e-03,  2.4293e-01,\n",
       "          2.6204e-01,  7.6693e-02, -1.2673e-01, -2.5588e-02,  3.0328e-01,\n",
       "         -4.5658e-02,  1.5810e-01, -1.8940e-01, -2.1052e-01, -3.5945e-01,\n",
       "          1.5683e-01, -3.6292e-01],\n",
       "        [ 5.9309e-02,  1.8778e-01,  2.1481e-01,  7.4415e-02, -2.4059e-01,\n",
       "          1.6661e-01,  2.0310e-01,  4.6626e-02, -3.0992e-01, -3.4667e-01,\n",
       "          3.7748e-01,  1.8044e-01, -6.4106e-01,  1.5947e-01, -1.7309e-02,\n",
       "         -5.0002e-02, -1.0611e-01,  1.8988e-01,  8.3554e-02,  4.6086e-01,\n",
       "          2.7725e-02, -3.4069e-01,  6.4991e-03,  2.9293e-02, -5.2964e-02,\n",
       "         -1.8694e-01,  1.9740e-01, -8.9931e-02,  5.9119e-02, -1.3136e-01,\n",
       "         -1.7921e-01,  9.2263e-02],\n",
       "        [-7.9082e-02,  3.6964e-02, -1.1432e-01,  1.1515e-02,  1.7608e-01,\n",
       "          5.4630e-01,  1.5593e-01, -7.6423e-02,  1.5690e-01,  2.8427e-01,\n",
       "          1.6489e-01, -3.0973e-01, -1.0482e-01,  2.9935e-01,  3.2225e-01,\n",
       "          3.4516e-01,  2.9661e-01,  3.5455e-02, -1.6158e-01,  1.9416e-01,\n",
       "         -4.7384e-01, -2.9166e-01,  5.2829e-02, -3.0190e-01,  3.6262e-01,\n",
       "          1.5550e-01,  2.6217e-01, -3.6529e-01,  4.2606e-02,  1.4810e-01,\n",
       "         -1.7145e-01, -6.2785e-02],\n",
       "        [ 7.7839e-02, -1.4836e-01, -1.1561e-02, -5.8140e-02, -2.5143e-01,\n",
       "         -1.7771e-01,  1.6268e-01,  7.8980e-02,  1.7797e-01,  2.3849e-01,\n",
       "         -7.0039e-02,  3.9218e-01, -1.7674e-01, -2.4527e-01,  1.5139e-01,\n",
       "          3.4559e-01, -8.7485e-02, -7.1836e-02, -1.9198e-01, -1.0641e-01,\n",
       "          3.2780e-01, -1.5446e-01, -1.2217e-01, -4.3435e-01,  8.0725e-02,\n",
       "          9.0931e-02,  6.9031e-02,  7.9510e-02, -9.2135e-02,  3.3941e-01,\n",
       "         -4.8701e-01,  1.5343e-01],\n",
       "        [-1.0258e-01, -1.4831e-01,  4.7301e-02, -1.8590e-01, -1.4212e-01,\n",
       "         -8.1750e-02, -3.0286e-01,  2.0046e-01, -1.2295e-01, -2.3060e-01,\n",
       "         -2.0955e-01,  1.2260e-01,  2.8132e-01,  5.5013e-02,  2.3764e-02,\n",
       "         -1.1754e-01, -1.5771e-01,  1.4366e-02,  1.1024e-01, -1.5354e-01,\n",
       "          2.3195e-01,  2.7724e-01, -5.8202e-01,  1.0191e-01, -3.8400e-01,\n",
       "         -7.1676e-02, -3.3026e-01, -1.3342e-01, -2.5413e-01,  3.6540e-02,\n",
       "         -1.6891e-01, -2.2706e-01]], requires_grad=True)"
      ]
     },
     "execution_count": 5,
     "metadata": {},
     "output_type": "execute_result"
    }
   ],
   "source": [
    "# Here we construct the neural network. There is no training involved yet. We are only defining the model.\n",
    "input_size = 784\n",
    "hidden_sizes = [128, 64, 32]\n",
    "output_size = 10\n",
    "input_layer = nn.Linear(input_size, hidden_sizes[0])\n",
    "hidden_layer1 = nn.Linear(hidden_sizes[0], hidden_sizes[1])\n",
    "hidden_layer2 = nn.Linear(hidden_sizes[1], hidden_sizes[2])\n",
    "output_layer = nn.Linear(hidden_sizes[2], output_size)\n",
    "\n",
    "model = nn.Sequential(input_layer,\n",
    "                      nn.ReLU(),\n",
    "                      hidden_layer1,\n",
    "                      nn.ReLU(),\n",
    "                      hidden_layer2,\n",
    "                      nn.ReLU(),\n",
    "                      output_layer,\n",
    "                      nn.LogSoftmax(dim=1))\n",
    "\n",
    "nn.init.xavier_normal_(input_layer.weight)\n",
    "nn.init.xavier_normal_(hidden_layer1.weight)\n",
    "nn.init.xavier_normal_(hidden_layer2.weight)\n",
    "nn.init.xavier_normal_(output_layer.weight)"
   ]
  },
  {
   "cell_type": "markdown",
   "id": "61a1a364",
   "metadata": {},
   "source": [
    "# Part 5 Construct the training loss"
   ]
  },
  {
   "cell_type": "code",
   "execution_count": 6,
   "id": "d742e15d",
   "metadata": {},
   "outputs": [],
   "source": [
    "criterion = nn.NLLLoss()\n",
    "images, labels = next(iter(trainloader))\n",
    "images = images.view(images.shape[0], -1)\n",
    "\n",
    "logps = model(images)                 #log probabilities\n",
    "loss = criterion(logps, labels)       #calculate the NLL loss"
   ]
  },
  {
   "cell_type": "markdown",
   "id": "99532680",
   "metadata": {},
   "source": [
    "# Part 6 Main Training Loop"
   ]
  },
  {
   "cell_type": "code",
   "execution_count": 7,
   "id": "1d914a24",
   "metadata": {},
   "outputs": [
    {
     "name": "stdout",
     "output_type": "stream",
     "text": [
      "The current loss: 0.1912450728475288\n",
      "trigger times: 0\n",
      "Epoch 0 - Training loss: 0.34408657471023835\n",
      "The current loss: 0.14729561596207177\n",
      "trigger times: 0\n",
      "Epoch 1 - Training loss: 0.16522126659345843\n",
      "The current loss: 0.14017954093232088\n",
      "trigger times: 0\n",
      "Epoch 2 - Training loss: 0.13020950312346918\n",
      "The current loss: 0.11947528335449707\n",
      "trigger times: 0\n",
      "Epoch 3 - Training loss: 0.10773993063785596\n",
      "The current loss: 0.10092684921695833\n",
      "trigger times: 0\n",
      "Epoch 4 - Training loss: 0.09745935246751491\n",
      "The current loss: 0.11011650597166484\n",
      "trigger times: 1\n",
      "Epoch 5 - Training loss: 0.08380990693651473\n",
      "The current loss: 0.10467809549930274\n",
      "trigger times: 0\n",
      "Epoch 6 - Training loss: 0.07654690972245387\n",
      "The current loss: 0.08748714530552815\n",
      "trigger times: 0\n",
      "Epoch 7 - Training loss: 0.06998022886187728\n",
      "The current loss: 0.09487199410128816\n",
      "trigger times: 1\n",
      "Epoch 8 - Training loss: 0.06358513312237059\n",
      "The current loss: 0.11275946571206923\n",
      "trigger times: 2\n",
      "Early stopping!\n",
      "Start to test process.\n",
      "\n",
      "Training Time (in minutes) = 0.6174743811289469\n",
      "hardswish with early stopping\n",
      "\n",
      "Training Time (in minutes) = 0.6174763838450114\n",
      "epochs =  [1, 2, 3, 4, 5, 6, 7, 8, 9, 10]\n",
      "train =  [0.34408657471023835, 0.16522126659345843, 0.13020950312346918, 0.10773993063785596, 0.09745935246751491, 0.08380990693651473, 0.07654690972245387, 0.06998022886187728, 0.06358513312237059, 0.060159887183583706]\n",
      "test =  [0.1912450728475288, 0.14729561596207177, 0.14017954093232088, 0.11947528335449707, 0.10092684921695833, 0.11011650597166484, 0.10467809549930274, 0.08748714530552815, 0.09487199410128816, 0.11275946571206923]\n"
     ]
    }
   ],
   "source": [
    "x = []\n",
    "cost = []\n",
    "cost_val = []\n",
    "\n",
    "optimizer = optim.Adam(model.parameters(), lr=0.001, betas=(0.9, 0.999), eps=1e-08, weight_decay=0, amsgrad=False, maximize=False)\n",
    "\n",
    "time0 = time()\n",
    "epochs = 50\n",
    "\n",
    "# Early stopping\n",
    "the_last_loss = 100\n",
    "patience = 2\n",
    "trigger_times = 0\n",
    "\n",
    "for e in range(epochs):\n",
    "    running_loss = 0\n",
    "    x.append(e+1)\n",
    "    for images, labels in trainloader:\n",
    "        # Flatten MNIST images into a 784 long vector\n",
    "        images = images.view(images.shape[0], -1)\n",
    "        \n",
    "        # Training pass\n",
    "        optimizer.zero_grad()\n",
    "        \n",
    "        output = model(images)\n",
    "        loss = criterion(output, labels)\n",
    "        \n",
    "        #This is where the model learns by backpropagating\n",
    "        loss.backward()\n",
    "        \n",
    "        #And optimizes its weights here\n",
    "        optimizer.step()\n",
    "        \n",
    "        running_loss += loss.item()\n",
    "    else:\n",
    "        # Early stopping\n",
    "        the_current_loss = validation(model, valloader, criterion)\n",
    "        print('The current loss:', the_current_loss)\n",
    "        \n",
    "        if the_current_loss > the_last_loss:\n",
    "            trigger_times += 1\n",
    "            print('trigger times:', trigger_times)\n",
    "\n",
    "            if trigger_times >= patience:\n",
    "                print('Early stopping!\\nStart to test process.')\n",
    "                print(\"\\nTraining Time (in minutes) =\",(time()-time0)/60)\n",
    "                print(\"hardswish with early stopping\")\n",
    "                the_last_loss = the_current_loss  \n",
    "                cost_val.append(the_last_loss)\n",
    "                cost.append(running_loss/len(trainloader))\n",
    "                break\n",
    "        else:\n",
    "            print('trigger times: 0')\n",
    "            trigger_times = 0\n",
    "        \n",
    "        the_last_loss = the_current_loss  \n",
    "        cost_val.append(the_last_loss)\n",
    "        cost.append(running_loss/len(trainloader))\n",
    "        print(\"Epoch {} - Training loss: {}\".format(e, running_loss/len(trainloader)))\n",
    "        \n",
    "print(\"\\nTraining Time (in minutes) =\",(time()-time0)/60)\n",
    "print(\"epochs = \", x)\n",
    "print(\"train = \", cost)\n",
    "print(\"test = \", cost_val)"
   ]
  },
  {
   "cell_type": "code",
   "execution_count": 8,
   "id": "d41f9479",
   "metadata": {},
   "outputs": [
    {
     "data": {
      "image/png": "[encoded data removed]",
      "text/plain": [
       "<Figure size 432x288 with 1 Axes>"
      ]
     },
     "metadata": {
      "needs_background": "light"
     },
     "output_type": "display_data"
    }
   ],
   "source": [
    "plt.plot(x,cost,x, cost_val)\n",
    "plt.title(\"Adam, Relu, Xavier, NLLLoss, no lr,no Dropout, With Early\")\n",
    "plt.legend([\"training loss\",\"validation loss\"])\n",
    "plt.xlabel(\"epochs\")\n",
    "plt.ylabel(\"loss\")\n",
    "plt.show()"
   ]
  },
  {
   "cell_type": "markdown",
   "id": "9df59fbd",
   "metadata": {},
   "source": [
    "# Part 7 Testing\n",
    "(This code uses the validation dataset)"
   ]
  },
  {
   "cell_type": "code",
   "execution_count": 9,
   "id": "73d88983",
   "metadata": {},
   "outputs": [
    {
     "name": "stdout",
     "output_type": "stream",
     "text": [
      "Predicted Digit = 7\n"
     ]
    },
    {
     "data": {
      "image/png": "[encoded data removed]",
      "text/plain": [
       "<Figure size 432x288 with 1 Axes>"
      ]
     },
     "metadata": {
      "needs_background": "light"
     },
     "output_type": "display_data"
    }
   ],
   "source": [
    "images, labels = next(iter(valloader))\n",
    "img = images[0].view(1, 784)\n",
    "with torch.no_grad():\n",
    "    logps = model(img)\n",
    "ps = torch.exp(logps)\n",
    "probab = list(ps.numpy()[0])\n",
    "print(\"Predicted Digit =\", probab.index(max(probab)))\n",
    "plt.imshow(images[0].numpy().squeeze(), cmap='gray_r');"
   ]
  },
  {
   "cell_type": "markdown",
   "id": "a1e9d13b",
   "metadata": {},
   "source": [
    "# Part 8 Testing\n",
    "(This code uses real data)"
   ]
  },
  {
   "cell_type": "code",
   "execution_count": 10,
   "id": "afe50cf0",
   "metadata": {},
   "outputs": [
    {
     "name": "stdout",
     "output_type": "stream",
     "text": [
      "Predicted Digit = 1\n"
     ]
    },
    {
     "data": {
      "text/plain": [
       "<matplotlib.image.AxesImage at 0x15f697400>"
      ]
     },
     "execution_count": 10,
     "metadata": {},
     "output_type": "execute_result"
    },
    {
     "data": {
      "image/png": "[encoded data removed]",
      "text/plain": [
       "<Figure size 432x288 with 1 Axes>"
      ]
     },
     "metadata": {
      "needs_background": "light"
     },
     "output_type": "display_data"
    }
   ],
   "source": [
    "images, labels = next(iter(testloader))\n",
    "img = images[0].view(1, 784)\n",
    "with torch.no_grad():\n",
    "    logps = model(img)\n",
    "ps = torch.exp(logps)\n",
    "probab = list(ps.numpy()[0])\n",
    "print(\"Predicted Digit =\", probab.index(max(probab)))\n",
    "plt.imshow(images[0].numpy().squeeze(), cmap='gray_r')"
   ]
  },
  {
   "cell_type": "markdown",
   "id": "427486bd",
   "metadata": {},
   "source": [
    "# Part 9 Confusion Matrix"
   ]
  },
  {
   "cell_type": "code",
   "execution_count": 11,
   "id": "0fb1ed6a",
   "metadata": {},
   "outputs": [
    {
     "name": "stdout",
     "output_type": "stream",
     "text": [
      "loop 0\n",
      "loop 100\n",
      "loop 200\n",
      "loop 300\n",
      "loop 400\n",
      "loop 500\n",
      "loop 600\n",
      "loop 700\n",
      "loop 800\n",
      "loop 900\n",
      "loop 1000\n",
      "loop 1100\n",
      "loop 1200\n",
      "loop 1300\n",
      "loop 1400\n",
      "loop 1500\n",
      "loop 1600\n",
      "loop 1700\n",
      "loop 1800\n",
      "loop 1900\n",
      "loop 2000\n",
      "loop 2100\n",
      "loop 2200\n",
      "loop 2300\n",
      "loop 2400\n",
      "loop 2500\n",
      "loop 2600\n",
      "loop 2700\n",
      "loop 2800\n",
      "loop 2900\n",
      "loop 3000\n",
      "loop 3100\n",
      "loop 3200\n",
      "loop 3300\n",
      "loop 3400\n",
      "loop 3500\n",
      "loop 3600\n",
      "loop 3700\n",
      "loop 3800\n",
      "loop 3900\n",
      "loop 4000\n",
      "loop 4100\n",
      "loop 4200\n",
      "loop 4300\n",
      "loop 4400\n",
      "loop 4500\n",
      "loop 4600\n",
      "loop 4700\n",
      "loop 4800\n",
      "loop 4900\n",
      "loop 5000\n",
      "loop 5100\n",
      "loop 5200\n",
      "loop 5300\n",
      "loop 5400\n",
      "loop 5500\n",
      "loop 5600\n",
      "loop 5700\n",
      "loop 5800\n",
      "loop 5900\n",
      "loop 6000\n",
      "loop 6100\n",
      "loop 6200\n",
      "loop 6300\n",
      "loop 6400\n",
      "loop 6500\n",
      "loop 6600\n",
      "loop 6700\n",
      "loop 6800\n",
      "loop 6900\n",
      "loop 7000\n",
      "loop 7100\n",
      "loop 7200\n",
      "loop 7300\n",
      "loop 7400\n",
      "loop 7500\n",
      "loop 7600\n",
      "loop 7700\n",
      "loop 7800\n",
      "loop 7900\n",
      "loop 8000\n",
      "loop 8100\n",
      "loop 8200\n",
      "loop 8300\n",
      "loop 8400\n",
      "loop 8500\n",
      "loop 8600\n",
      "loop 8700\n",
      "loop 8800\n",
      "loop 8900\n",
      "loop 9000\n",
      "loop 9100\n",
      "loop 9200\n",
      "loop 9300\n",
      "loop 9400\n",
      "loop 9500\n",
      "loop 9600\n",
      "loop 9700\n",
      "loop 9800\n",
      "loop 9900\n",
      "6.92156111796697\n"
     ]
    }
   ],
   "source": [
    "confusion = np.zeros((10,10))\n",
    "time0 = time()\n",
    "for i in range(10000):\n",
    "    images, labels = next(iter(testloader))\n",
    "    img = images[0].view(1, 784)\n",
    "    with torch.no_grad():\n",
    "        logps = model(img)\n",
    "    ps = torch.exp(logps)\n",
    "    probab = list(ps.numpy()[0])\n",
    "    output = probab.index(max(probab))\n",
    "    actual = labels[0].tolist()\n",
    "    confusion[actual][output] += 1\n",
    "    if i%100 == 0:\n",
    "        print('loop', i)\n",
    "print((time()-time0)/60)"
   ]
  },
  {
   "cell_type": "code",
   "execution_count": 17,
   "id": "f43a5c34",
   "metadata": {},
   "outputs": [
    {
     "name": "stdout",
     "output_type": "stream",
     "text": [
      "predicted correctly 9710.0\n",
      "sum 10000.0\n"
     ]
    }
   ],
   "source": [
    "def accuracy(confusion):\n",
    "    correct = 0\n",
    "    for i in range(10):\n",
    "        correct += confusion[i][i]\n",
    "    print('predicted correctly',correct)\n",
    "    print('sum',confusion.sum())\n",
    "    return correct/confusion.sum()\n",
    "\n",
    "accuracy = accuracy(confusion)"
   ]
  },
  {
   "cell_type": "code",
   "execution_count": 18,
   "id": "1829e870",
   "metadata": {},
   "outputs": [],
   "source": [
    "def precision(confusion):\n",
    "    sum = 0\n",
    "    for i in range(10):\n",
    "        TP = confusion[i][i]\n",
    "        FP_TP = np.sum(confusion,axis=0)[i]\n",
    "        precision = TP/FP_TP\n",
    "        sum += precision\n",
    "        #print('Precision of class ',i,' = ',precision)\n",
    "    return sum/10\n",
    "        \n",
    "    \n",
    "precision = precision(confusion)"
   ]
  },
  {
   "cell_type": "code",
   "execution_count": 19,
   "id": "ea14bc0b",
   "metadata": {},
   "outputs": [],
   "source": [
    "def recall(confusion):\n",
    "    sum = 0\n",
    "    for i in range(10):\n",
    "        TP = confusion[i][i]\n",
    "        FN_TP = np.sum(confusion,axis=1)[i]\n",
    "        recall = TP/FN_TP\n",
    "        sum += recall\n",
    "        #print('Recall of class ',i,' = ',recall)\n",
    "    return sum/10\n",
    "recall = recall(confusion)"
   ]
  },
  {
   "cell_type": "code",
   "execution_count": 21,
   "id": "55ed498f",
   "metadata": {},
   "outputs": [],
   "source": [
    "def f1_score(precision,recall):\n",
    "    return 2*((precision*recall) / (precision+recall))\n",
    "f1_score = f1_score(precision,recall)"
   ]
  },
  {
   "cell_type": "code",
   "execution_count": 25,
   "id": "03c83426",
   "metadata": {},
   "outputs": [
    {
     "data": {
      "image/png": "[encoded data removed]",
      "text/plain": [
       "<Figure size 432x288 with 1 Axes>"
      ]
     },
     "metadata": {
      "needs_background": "light"
     },
     "output_type": "display_data"
    },
    {
     "name": "stdout",
     "output_type": "stream",
     "text": [
      "accuracy =  0.971\n",
      "precision =  0.9710714188315681\n",
      "recall =  0.9710316923180603\n",
      "f1_score =  0.9710515551685032\n"
     ]
    }
   ],
   "source": [
    "plt.plot(x,cost,x, cost_val)\n",
    "plt.title(\"Adam, Relu, Xavier, NLLLoss, no lr,no Dropout, With Early\")\n",
    "plt.legend([\"training loss\",\"validation loss\"])\n",
    "plt.xlabel(\"epochs\")\n",
    "plt.ylabel(\"loss\")\n",
    "plt.show()\n",
    "\n",
    "print(\"accuracy = \", accuracy)\n",
    "print(\"precision = \", precision)\n",
    "print(\"recall = \",recall)\n",
    "print(\"f1_score = \",f1_score)"
   ]
  },
  {
   "cell_type": "code",
   "execution_count": 39,
   "id": "566e2c8c",
   "metadata": {},
   "outputs": [
    {
     "data": {
      "application/vnd.plotly.v1+json": {
       "config": {
        "plotlyServerURL": "https://plot.ly"
       },
       "data": [
        {
         "colorscale": [
          [
           0,
           "rgb(255,245,240)"
          ],
          [
           0.125,
           "rgb(254,224,210)"
          ],
          [
           0.25,
           "rgb(252,187,161)"
          ],
          [
           0.375,
           "rgb(252,146,114)"
          ],
          [
           0.5,
           "rgb(251,106,74)"
          ],
          [
           0.625,
           "rgb(239,59,44)"
          ],
          [
           0.75,
           "rgb(203,24,29)"
          ],
          [
           0.875,
           "rgb(165,15,21)"
          ],
          [
           1,
           "rgb(103,0,13)"
          ]
         ],
         "reversescale": false,
         "showscale": true,
         "type": "heatmap",
         "x": [
          "0",
          "1",
          "2",
          "3",
          "4",
          "5",
          "6",
          "7",
          "8",
          "9"
         ],
         "y": [
          "0",
          "1",
          "2",
          "3",
          "4",
          "5",
          "6",
          "7",
          "8",
          "9"
         ],
         "z": [
          [
           1006,
           0,
           0,
           0,
           1,
           2,
           2,
           2,
           1,
           0
          ],
          [
           0,
           1113,
           3,
           0,
           0,
           1,
           1,
           1,
           9,
           0
          ],
          [
           10,
           1,
           969,
           7,
           1,
           0,
           0,
           4,
           10,
           0
          ],
          [
           0,
           0,
           5,
           984,
           0,
           13,
           0,
           12,
           1,
           5
          ],
          [
           2,
           0,
           0,
           0,
           1004,
           0,
           5,
           0,
           0,
           0
          ],
          [
           2,
           0,
           0,
           5,
           1,
           815,
           5,
           0,
           2,
           0
          ],
          [
           0,
           1,
           0,
           0,
           3,
           2,
           929,
           0,
           4,
           0
          ],
          [
           0,
           3,
           17,
           1,
           3,
           0,
           2,
           1021,
           2,
           6
          ],
          [
           4,
           0,
           7,
           2,
           3,
           8,
           1,
           3,
           976,
           3
          ],
          [
           4,
           2,
           2,
           4,
           67,
           8,
           2,
           4,
           8,
           893
          ]
         ]
        }
       ],
       "layout": {
        "annotations": [
         {
          "font": {
           "color": "#FFFFFF"
          },
          "showarrow": false,
          "text": "1006.0",
          "x": "0",
          "xref": "x",
          "y": "0",
          "yref": "y"
         },
         {
          "font": {
           "color": "#000000"
          },
          "showarrow": false,
          "text": "0.0",
          "x": "1",
          "xref": "x",
          "y": "0",
          "yref": "y"
         },
         {
          "font": {
           "color": "#000000"
          },
          "showarrow": false,
          "text": "0.0",
          "x": "2",
          "xref": "x",
          "y": "0",
          "yref": "y"
         },
         {
          "font": {
           "color": "#000000"
          },
          "showarrow": false,
          "text": "0.0",
          "x": "3",
          "xref": "x",
          "y": "0",
          "yref": "y"
         },
         {
          "font": {
           "color": "#000000"
          },
          "showarrow": false,
          "text": "1.0",
          "x": "4",
          "xref": "x",
          "y": "0",
          "yref": "y"
         },
         {
          "font": {
           "color": "#000000"
          },
          "showarrow": false,
          "text": "2.0",
          "x": "5",
          "xref": "x",
          "y": "0",
          "yref": "y"
         },
         {
          "font": {
           "color": "#000000"
          },
          "showarrow": false,
          "text": "2.0",
          "x": "6",
          "xref": "x",
          "y": "0",
          "yref": "y"
         },
         {
          "font": {
           "color": "#000000"
          },
          "showarrow": false,
          "text": "2.0",
          "x": "7",
          "xref": "x",
          "y": "0",
          "yref": "y"
         },
         {
          "font": {
           "color": "#000000"
          },
          "showarrow": false,
          "text": "1.0",
          "x": "8",
          "xref": "x",
          "y": "0",
          "yref": "y"
         },
         {
          "font": {
           "color": "#000000"
          },
          "showarrow": false,
          "text": "0.0",
          "x": "9",
          "xref": "x",
          "y": "0",
          "yref": "y"
         },
         {
          "font": {
           "color": "#000000"
          },
          "showarrow": false,
          "text": "0.0",
          "x": "0",
          "xref": "x",
          "y": "1",
          "yref": "y"
         },
         {
          "font": {
           "color": "#FFFFFF"
          },
          "showarrow": false,
          "text": "1113.0",
          "x": "1",
          "xref": "x",
          "y": "1",
          "yref": "y"
         },
         {
          "font": {
           "color": "#000000"
          },
          "showarrow": false,
          "text": "3.0",
          "x": "2",
          "xref": "x",
          "y": "1",
          "yref": "y"
         },
         {
          "font": {
           "color": "#000000"
          },
          "showarrow": false,
          "text": "0.0",
          "x": "3",
          "xref": "x",
          "y": "1",
          "yref": "y"
         },
         {
          "font": {
           "color": "#000000"
          },
          "showarrow": false,
          "text": "0.0",
          "x": "4",
          "xref": "x",
          "y": "1",
          "yref": "y"
         },
         {
          "font": {
           "color": "#000000"
          },
          "showarrow": false,
          "text": "1.0",
          "x": "5",
          "xref": "x",
          "y": "1",
          "yref": "y"
         },
         {
          "font": {
           "color": "#000000"
          },
          "showarrow": false,
          "text": "1.0",
          "x": "6",
          "xref": "x",
          "y": "1",
          "yref": "y"
         },
         {
          "font": {
           "color": "#000000"
          },
          "showarrow": false,
          "text": "1.0",
          "x": "7",
          "xref": "x",
          "y": "1",
          "yref": "y"
         },
         {
          "font": {
           "color": "#000000"
          },
          "showarrow": false,
          "text": "9.0",
          "x": "8",
          "xref": "x",
          "y": "1",
          "yref": "y"
         },
         {
          "font": {
           "color": "#000000"
          },
          "showarrow": false,
          "text": "0.0",
          "x": "9",
          "xref": "x",
          "y": "1",
          "yref": "y"
         },
         {
          "font": {
           "color": "#000000"
          },
          "showarrow": false,
          "text": "10.0",
          "x": "0",
          "xref": "x",
          "y": "2",
          "yref": "y"
         },
         {
          "font": {
           "color": "#000000"
          },
          "showarrow": false,
          "text": "1.0",
          "x": "1",
          "xref": "x",
          "y": "2",
          "yref": "y"
         },
         {
          "font": {
           "color": "#FFFFFF"
          },
          "showarrow": false,
          "text": "969.0",
          "x": "2",
          "xref": "x",
          "y": "2",
          "yref": "y"
         },
         {
          "font": {
           "color": "#000000"
          },
          "showarrow": false,
          "text": "7.0",
          "x": "3",
          "xref": "x",
          "y": "2",
          "yref": "y"
         },
         {
          "font": {
           "color": "#000000"
          },
          "showarrow": false,
          "text": "1.0",
          "x": "4",
          "xref": "x",
          "y": "2",
          "yref": "y"
         },
         {
          "font": {
           "color": "#000000"
          },
          "showarrow": false,
          "text": "0.0",
          "x": "5",
          "xref": "x",
          "y": "2",
          "yref": "y"
         },
         {
          "font": {
           "color": "#000000"
          },
          "showarrow": false,
          "text": "0.0",
          "x": "6",
          "xref": "x",
          "y": "2",
          "yref": "y"
         },
         {
          "font": {
           "color": "#000000"
          },
          "showarrow": false,
          "text": "4.0",
          "x": "7",
          "xref": "x",
          "y": "2",
          "yref": "y"
         },
         {
          "font": {
           "color": "#000000"
          },
          "showarrow": false,
          "text": "10.0",
          "x": "8",
          "xref": "x",
          "y": "2",
          "yref": "y"
         },
         {
          "font": {
           "color": "#000000"
          },
          "showarrow": false,
          "text": "0.0",
          "x": "9",
          "xref": "x",
          "y": "2",
          "yref": "y"
         },
         {
          "font": {
           "color": "#000000"
          },
          "showarrow": false,
          "text": "0.0",
          "x": "0",
          "xref": "x",
          "y": "3",
          "yref": "y"
         },
         {
          "font": {
           "color": "#000000"
          },
          "showarrow": false,
          "text": "0.0",
          "x": "1",
          "xref": "x",
          "y": "3",
          "yref": "y"
         },
         {
          "font": {
           "color": "#000000"
          },
          "showarrow": false,
          "text": "5.0",
          "x": "2",
          "xref": "x",
          "y": "3",
          "yref": "y"
         },
         {
          "font": {
           "color": "#FFFFFF"
          },
          "showarrow": false,
          "text": "984.0",
          "x": "3",
          "xref": "x",
          "y": "3",
          "yref": "y"
         },
         {
          "font": {
           "color": "#000000"
          },
          "showarrow": false,
          "text": "0.0",
          "x": "4",
          "xref": "x",
          "y": "3",
          "yref": "y"
         },
         {
          "font": {
           "color": "#000000"
          },
          "showarrow": false,
          "text": "13.0",
          "x": "5",
          "xref": "x",
          "y": "3",
          "yref": "y"
         },
         {
          "font": {
           "color": "#000000"
          },
          "showarrow": false,
          "text": "0.0",
          "x": "6",
          "xref": "x",
          "y": "3",
          "yref": "y"
         },
         {
          "font": {
           "color": "#000000"
          },
          "showarrow": false,
          "text": "12.0",
          "x": "7",
          "xref": "x",
          "y": "3",
          "yref": "y"
         },
         {
          "font": {
           "color": "#000000"
          },
          "showarrow": false,
          "text": "1.0",
          "x": "8",
          "xref": "x",
          "y": "3",
          "yref": "y"
         },
         {
          "font": {
           "color": "#000000"
          },
          "showarrow": false,
          "text": "5.0",
          "x": "9",
          "xref": "x",
          "y": "3",
          "yref": "y"
         },
         {
          "font": {
           "color": "#000000"
          },
          "showarrow": false,
          "text": "2.0",
          "x": "0",
          "xref": "x",
          "y": "4",
          "yref": "y"
         },
         {
          "font": {
           "color": "#000000"
          },
          "showarrow": false,
          "text": "0.0",
          "x": "1",
          "xref": "x",
          "y": "4",
          "yref": "y"
         },
         {
          "font": {
           "color": "#000000"
          },
          "showarrow": false,
          "text": "0.0",
          "x": "2",
          "xref": "x",
          "y": "4",
          "yref": "y"
         },
         {
          "font": {
           "color": "#000000"
          },
          "showarrow": false,
          "text": "0.0",
          "x": "3",
          "xref": "x",
          "y": "4",
          "yref": "y"
         },
         {
          "font": {
           "color": "#FFFFFF"
          },
          "showarrow": false,
          "text": "1004.0",
          "x": "4",
          "xref": "x",
          "y": "4",
          "yref": "y"
         },
         {
          "font": {
           "color": "#000000"
          },
          "showarrow": false,
          "text": "0.0",
          "x": "5",
          "xref": "x",
          "y": "4",
          "yref": "y"
         },
         {
          "font": {
           "color": "#000000"
          },
          "showarrow": false,
          "text": "5.0",
          "x": "6",
          "xref": "x",
          "y": "4",
          "yref": "y"
         },
         {
          "font": {
           "color": "#000000"
          },
          "showarrow": false,
          "text": "0.0",
          "x": "7",
          "xref": "x",
          "y": "4",
          "yref": "y"
         },
         {
          "font": {
           "color": "#000000"
          },
          "showarrow": false,
          "text": "0.0",
          "x": "8",
          "xref": "x",
          "y": "4",
          "yref": "y"
         },
         {
          "font": {
           "color": "#000000"
          },
          "showarrow": false,
          "text": "0.0",
          "x": "9",
          "xref": "x",
          "y": "4",
          "yref": "y"
         },
         {
          "font": {
           "color": "#000000"
          },
          "showarrow": false,
          "text": "2.0",
          "x": "0",
          "xref": "x",
          "y": "5",
          "yref": "y"
         },
         {
          "font": {
           "color": "#000000"
          },
          "showarrow": false,
          "text": "0.0",
          "x": "1",
          "xref": "x",
          "y": "5",
          "yref": "y"
         },
         {
          "font": {
           "color": "#000000"
          },
          "showarrow": false,
          "text": "0.0",
          "x": "2",
          "xref": "x",
          "y": "5",
          "yref": "y"
         },
         {
          "font": {
           "color": "#000000"
          },
          "showarrow": false,
          "text": "5.0",
          "x": "3",
          "xref": "x",
          "y": "5",
          "yref": "y"
         },
         {
          "font": {
           "color": "#000000"
          },
          "showarrow": false,
          "text": "1.0",
          "x": "4",
          "xref": "x",
          "y": "5",
          "yref": "y"
         },
         {
          "font": {
           "color": "#FFFFFF"
          },
          "showarrow": false,
          "text": "815.0",
          "x": "5",
          "xref": "x",
          "y": "5",
          "yref": "y"
         },
         {
          "font": {
           "color": "#000000"
          },
          "showarrow": false,
          "text": "5.0",
          "x": "6",
          "xref": "x",
          "y": "5",
          "yref": "y"
         },
         {
          "font": {
           "color": "#000000"
          },
          "showarrow": false,
          "text": "0.0",
          "x": "7",
          "xref": "x",
          "y": "5",
          "yref": "y"
         },
         {
          "font": {
           "color": "#000000"
          },
          "showarrow": false,
          "text": "2.0",
          "x": "8",
          "xref": "x",
          "y": "5",
          "yref": "y"
         },
         {
          "font": {
           "color": "#000000"
          },
          "showarrow": false,
          "text": "0.0",
          "x": "9",
          "xref": "x",
          "y": "5",
          "yref": "y"
         },
         {
          "font": {
           "color": "#000000"
          },
          "showarrow": false,
          "text": "0.0",
          "x": "0",
          "xref": "x",
          "y": "6",
          "yref": "y"
         },
         {
          "font": {
           "color": "#000000"
          },
          "showarrow": false,
          "text": "1.0",
          "x": "1",
          "xref": "x",
          "y": "6",
          "yref": "y"
         },
         {
          "font": {
           "color": "#000000"
          },
          "showarrow": false,
          "text": "0.0",
          "x": "2",
          "xref": "x",
          "y": "6",
          "yref": "y"
         },
         {
          "font": {
           "color": "#000000"
          },
          "showarrow": false,
          "text": "0.0",
          "x": "3",
          "xref": "x",
          "y": "6",
          "yref": "y"
         },
         {
          "font": {
           "color": "#000000"
          },
          "showarrow": false,
          "text": "3.0",
          "x": "4",
          "xref": "x",
          "y": "6",
          "yref": "y"
         },
         {
          "font": {
           "color": "#000000"
          },
          "showarrow": false,
          "text": "2.0",
          "x": "5",
          "xref": "x",
          "y": "6",
          "yref": "y"
         },
         {
          "font": {
           "color": "#FFFFFF"
          },
          "showarrow": false,
          "text": "929.0",
          "x": "6",
          "xref": "x",
          "y": "6",
          "yref": "y"
         },
         {
          "font": {
           "color": "#000000"
          },
          "showarrow": false,
          "text": "0.0",
          "x": "7",
          "xref": "x",
          "y": "6",
          "yref": "y"
         },
         {
          "font": {
           "color": "#000000"
          },
          "showarrow": false,
          "text": "4.0",
          "x": "8",
          "xref": "x",
          "y": "6",
          "yref": "y"
         },
         {
          "font": {
           "color": "#000000"
          },
          "showarrow": false,
          "text": "0.0",
          "x": "9",
          "xref": "x",
          "y": "6",
          "yref": "y"
         },
         {
          "font": {
           "color": "#000000"
          },
          "showarrow": false,
          "text": "0.0",
          "x": "0",
          "xref": "x",
          "y": "7",
          "yref": "y"
         },
         {
          "font": {
           "color": "#000000"
          },
          "showarrow": false,
          "text": "3.0",
          "x": "1",
          "xref": "x",
          "y": "7",
          "yref": "y"
         },
         {
          "font": {
           "color": "#000000"
          },
          "showarrow": false,
          "text": "17.0",
          "x": "2",
          "xref": "x",
          "y": "7",
          "yref": "y"
         },
         {
          "font": {
           "color": "#000000"
          },
          "showarrow": false,
          "text": "1.0",
          "x": "3",
          "xref": "x",
          "y": "7",
          "yref": "y"
         },
         {
          "font": {
           "color": "#000000"
          },
          "showarrow": false,
          "text": "3.0",
          "x": "4",
          "xref": "x",
          "y": "7",
          "yref": "y"
         },
         {
          "font": {
           "color": "#000000"
          },
          "showarrow": false,
          "text": "0.0",
          "x": "5",
          "xref": "x",
          "y": "7",
          "yref": "y"
         },
         {
          "font": {
           "color": "#000000"
          },
          "showarrow": false,
          "text": "2.0",
          "x": "6",
          "xref": "x",
          "y": "7",
          "yref": "y"
         },
         {
          "font": {
           "color": "#FFFFFF"
          },
          "showarrow": false,
          "text": "1021.0",
          "x": "7",
          "xref": "x",
          "y": "7",
          "yref": "y"
         },
         {
          "font": {
           "color": "#000000"
          },
          "showarrow": false,
          "text": "2.0",
          "x": "8",
          "xref": "x",
          "y": "7",
          "yref": "y"
         },
         {
          "font": {
           "color": "#000000"
          },
          "showarrow": false,
          "text": "6.0",
          "x": "9",
          "xref": "x",
          "y": "7",
          "yref": "y"
         },
         {
          "font": {
           "color": "#000000"
          },
          "showarrow": false,
          "text": "4.0",
          "x": "0",
          "xref": "x",
          "y": "8",
          "yref": "y"
         },
         {
          "font": {
           "color": "#000000"
          },
          "showarrow": false,
          "text": "0.0",
          "x": "1",
          "xref": "x",
          "y": "8",
          "yref": "y"
         },
         {
          "font": {
           "color": "#000000"
          },
          "showarrow": false,
          "text": "7.0",
          "x": "2",
          "xref": "x",
          "y": "8",
          "yref": "y"
         },
         {
          "font": {
           "color": "#000000"
          },
          "showarrow": false,
          "text": "2.0",
          "x": "3",
          "xref": "x",
          "y": "8",
          "yref": "y"
         },
         {
          "font": {
           "color": "#000000"
          },
          "showarrow": false,
          "text": "3.0",
          "x": "4",
          "xref": "x",
          "y": "8",
          "yref": "y"
         },
         {
          "font": {
           "color": "#000000"
          },
          "showarrow": false,
          "text": "8.0",
          "x": "5",
          "xref": "x",
          "y": "8",
          "yref": "y"
         },
         {
          "font": {
           "color": "#000000"
          },
          "showarrow": false,
          "text": "1.0",
          "x": "6",
          "xref": "x",
          "y": "8",
          "yref": "y"
         },
         {
          "font": {
           "color": "#000000"
          },
          "showarrow": false,
          "text": "3.0",
          "x": "7",
          "xref": "x",
          "y": "8",
          "yref": "y"
         },
         {
          "font": {
           "color": "#FFFFFF"
          },
          "showarrow": false,
          "text": "976.0",
          "x": "8",
          "xref": "x",
          "y": "8",
          "yref": "y"
         },
         {
          "font": {
           "color": "#000000"
          },
          "showarrow": false,
          "text": "3.0",
          "x": "9",
          "xref": "x",
          "y": "8",
          "yref": "y"
         },
         {
          "font": {
           "color": "#000000"
          },
          "showarrow": false,
          "text": "4.0",
          "x": "0",
          "xref": "x",
          "y": "9",
          "yref": "y"
         },
         {
          "font": {
           "color": "#000000"
          },
          "showarrow": false,
          "text": "2.0",
          "x": "1",
          "xref": "x",
          "y": "9",
          "yref": "y"
         },
         {
          "font": {
           "color": "#000000"
          },
          "showarrow": false,
          "text": "2.0",
          "x": "2",
          "xref": "x",
          "y": "9",
          "yref": "y"
         },
         {
          "font": {
           "color": "#000000"
          },
          "showarrow": false,
          "text": "4.0",
          "x": "3",
          "xref": "x",
          "y": "9",
          "yref": "y"
         },
         {
          "font": {
           "color": "#000000"
          },
          "showarrow": false,
          "text": "67.0",
          "x": "4",
          "xref": "x",
          "y": "9",
          "yref": "y"
         },
         {
          "font": {
           "color": "#000000"
          },
          "showarrow": false,
          "text": "8.0",
          "x": "5",
          "xref": "x",
          "y": "9",
          "yref": "y"
         },
         {
          "font": {
           "color": "#000000"
          },
          "showarrow": false,
          "text": "2.0",
          "x": "6",
          "xref": "x",
          "y": "9",
          "yref": "y"
         },
         {
          "font": {
           "color": "#000000"
          },
          "showarrow": false,
          "text": "4.0",
          "x": "7",
          "xref": "x",
          "y": "9",
          "yref": "y"
         },
         {
          "font": {
           "color": "#000000"
          },
          "showarrow": false,
          "text": "8.0",
          "x": "8",
          "xref": "x",
          "y": "9",
          "yref": "y"
         },
         {
          "font": {
           "color": "#FFFFFF"
          },
          "showarrow": false,
          "text": "893.0",
          "x": "9",
          "xref": "x",
          "y": "9",
          "yref": "y"
         },
         {
          "font": {
           "color": "black",
           "size": 13
          },
          "showarrow": false,
          "text": "Predicted Value",
          "x": 0.5,
          "xref": "paper",
          "y": -0.15,
          "yref": "paper"
         },
         {
          "font": {
           "color": "black",
           "size": 13
          },
          "showarrow": false,
          "text": "Real Value",
          "textangle": -90,
          "x": -0.2,
          "xref": "paper",
          "y": 0.5,
          "yref": "paper"
         }
        ],
        "margin": {
         "l": 200,
         "t": 50
        },
        "template": {
         "data": {
          "bar": [
           {
            "error_x": {
             "color": "#2a3f5f"
            },
            "error_y": {
             "color": "#2a3f5f"
            },
            "marker": {
             "line": {
              "color": "#E5ECF6",
              "width": 0.5
             },
             "pattern": {
              "fillmode": "overlay",
              "size": 10,
              "solidity": 0.2
             }
            },
            "type": "bar"
           }
          ],
          "barpolar": [
           {
            "marker": {
             "line": {
              "color": "#E5ECF6",
              "width": 0.5
             },
             "pattern": {
              "fillmode": "overlay",
              "size": 10,
              "solidity": 0.2
             }
            },
            "type": "barpolar"
           }
          ],
          "carpet": [
           {
            "aaxis": {
             "endlinecolor": "#2a3f5f",
             "gridcolor": "white",
             "linecolor": "white",
             "minorgridcolor": "white",
             "startlinecolor": "#2a3f5f"
            },
            "baxis": {
             "endlinecolor": "#2a3f5f",
             "gridcolor": "white",
             "linecolor": "white",
             "minorgridcolor": "white",
             "startlinecolor": "#2a3f5f"
            },
            "type": "carpet"
           }
          ],
          "choropleth": [
           {
            "colorbar": {
             "outlinewidth": 0,
             "ticks": ""
            },
            "type": "choropleth"
           }
          ],
          "contour": [
           {
            "colorbar": {
             "outlinewidth": 0,
             "ticks": ""
            },
            "colorscale": [
             [
              0,
              "#0d0887"
             ],
             [
              0.1111111111111111,
              "#46039f"
             ],
             [
              0.2222222222222222,
              "#7201a8"
             ],
             [
              0.3333333333333333,
              "#9c179e"
             ],
             [
              0.4444444444444444,
              "#bd3786"
             ],
             [
              0.5555555555555556,
              "#d8576b"
             ],
             [
              0.6666666666666666,
              "#ed7953"
             ],
             [
              0.7777777777777778,
              "#fb9f3a"
             ],
             [
              0.8888888888888888,
              "#fdca26"
             ],
             [
              1,
              "#f0f921"
             ]
            ],
            "type": "contour"
           }
          ],
          "contourcarpet": [
           {
            "colorbar": {
             "outlinewidth": 0,
             "ticks": ""
            },
            "type": "contourcarpet"
           }
          ],
          "heatmap": [
           {
            "colorbar": {
             "outlinewidth": 0,
             "ticks": ""
            },
            "colorscale": [
             [
              0,
              "#0d0887"
             ],
             [
              0.1111111111111111,
              "#46039f"
             ],
             [
              0.2222222222222222,
              "#7201a8"
             ],
             [
              0.3333333333333333,
              "#9c179e"
             ],
             [
              0.4444444444444444,
              "#bd3786"
             ],
             [
              0.5555555555555556,
              "#d8576b"
             ],
             [
              0.6666666666666666,
              "#ed7953"
             ],
             [
              0.7777777777777778,
              "#fb9f3a"
             ],
             [
              0.8888888888888888,
              "#fdca26"
             ],
             [
              1,
              "#f0f921"
             ]
            ],
            "type": "heatmap"
           }
          ],
          "heatmapgl": [
           {
            "colorbar": {
             "outlinewidth": 0,
             "ticks": ""
            },
            "colorscale": [
             [
              0,
              "#0d0887"
             ],
             [
              0.1111111111111111,
              "#46039f"
             ],
             [
              0.2222222222222222,
              "#7201a8"
             ],
             [
              0.3333333333333333,
              "#9c179e"
             ],
             [
              0.4444444444444444,
              "#bd3786"
             ],
             [
              0.5555555555555556,
              "#d8576b"
             ],
             [
              0.6666666666666666,
              "#ed7953"
             ],
             [
              0.7777777777777778,
              "#fb9f3a"
             ],
             [
              0.8888888888888888,
              "#fdca26"
             ],
             [
              1,
              "#f0f921"
             ]
            ],
            "type": "heatmapgl"
           }
          ],
          "histogram": [
           {
            "marker": {
             "pattern": {
              "fillmode": "overlay",
              "size": 10,
              "solidity": 0.2
             }
            },
            "type": "histogram"
           }
          ],
          "histogram2d": [
           {
            "colorbar": {
             "outlinewidth": 0,
             "ticks": ""
            },
            "colorscale": [
             [
              0,
              "#0d0887"
             ],
             [
              0.1111111111111111,
              "#46039f"
             ],
             [
              0.2222222222222222,
              "#7201a8"
             ],
             [
              0.3333333333333333,
              "#9c179e"
             ],
             [
              0.4444444444444444,
              "#bd3786"
             ],
             [
              0.5555555555555556,
              "#d8576b"
             ],
             [
              0.6666666666666666,
              "#ed7953"
             ],
             [
              0.7777777777777778,
              "#fb9f3a"
             ],
             [
              0.8888888888888888,
              "#fdca26"
             ],
             [
              1,
              "#f0f921"
             ]
            ],
            "type": "histogram2d"
           }
          ],
          "histogram2dcontour": [
           {
            "colorbar": {
             "outlinewidth": 0,
             "ticks": ""
            },
            "colorscale": [
             [
              0,
              "#0d0887"
             ],
             [
              0.1111111111111111,
              "#46039f"
             ],
             [
              0.2222222222222222,
              "#7201a8"
             ],
             [
              0.3333333333333333,
              "#9c179e"
             ],
             [
              0.4444444444444444,
              "#bd3786"
             ],
             [
              0.5555555555555556,
              "#d8576b"
             ],
             [
              0.6666666666666666,
              "#ed7953"
             ],
             [
              0.7777777777777778,
              "#fb9f3a"
             ],
             [
              0.8888888888888888,
              "#fdca26"
             ],
             [
              1,
              "#f0f921"
             ]
            ],
            "type": "histogram2dcontour"
           }
          ],
          "mesh3d": [
           {
            "colorbar": {
             "outlinewidth": 0,
             "ticks": ""
            },
            "type": "mesh3d"
           }
          ],
          "parcoords": [
           {
            "line": {
             "colorbar": {
              "outlinewidth": 0,
              "ticks": ""
             }
            },
            "type": "parcoords"
           }
          ],
          "pie": [
           {
            "automargin": true,
            "type": "pie"
           }
          ],
          "scatter": [
           {
            "fillpattern": {
             "fillmode": "overlay",
             "size": 10,
             "solidity": 0.2
            },
            "type": "scatter"
           }
          ],
          "scatter3d": [
           {
            "line": {
             "colorbar": {
              "outlinewidth": 0,
              "ticks": ""
             }
            },
            "marker": {
             "colorbar": {
              "outlinewidth": 0,
              "ticks": ""
             }
            },
            "type": "scatter3d"
           }
          ],
          "scattercarpet": [
           {
            "marker": {
             "colorbar": {
              "outlinewidth": 0,
              "ticks": ""
             }
            },
            "type": "scattercarpet"
           }
          ],
          "scattergeo": [
           {
            "marker": {
             "colorbar": {
              "outlinewidth": 0,
              "ticks": ""
             }
            },
            "type": "scattergeo"
           }
          ],
          "scattergl": [
           {
            "marker": {
             "colorbar": {
              "outlinewidth": 0,
              "ticks": ""
             }
            },
            "type": "scattergl"
           }
          ],
          "scattermapbox": [
           {
            "marker": {
             "colorbar": {
              "outlinewidth": 0,
              "ticks": ""
             }
            },
            "type": "scattermapbox"
           }
          ],
          "scatterpolar": [
           {
            "marker": {
             "colorbar": {
              "outlinewidth": 0,
              "ticks": ""
             }
            },
            "type": "scatterpolar"
           }
          ],
          "scatterpolargl": [
           {
            "marker": {
             "colorbar": {
              "outlinewidth": 0,
              "ticks": ""
             }
            },
            "type": "scatterpolargl"
           }
          ],
          "scatterternary": [
           {
            "marker": {
             "colorbar": {
              "outlinewidth": 0,
              "ticks": ""
             }
            },
            "type": "scatterternary"
           }
          ],
          "surface": [
           {
            "colorbar": {
             "outlinewidth": 0,
             "ticks": ""
            },
            "colorscale": [
             [
              0,
              "#0d0887"
             ],
             [
              0.1111111111111111,
              "#46039f"
             ],
             [
              0.2222222222222222,
              "#7201a8"
             ],
             [
              0.3333333333333333,
              "#9c179e"
             ],
             [
              0.4444444444444444,
              "#bd3786"
             ],
             [
              0.5555555555555556,
              "#d8576b"
             ],
             [
              0.6666666666666666,
              "#ed7953"
             ],
             [
              0.7777777777777778,
              "#fb9f3a"
             ],
             [
              0.8888888888888888,
              "#fdca26"
             ],
             [
              1,
              "#f0f921"
             ]
            ],
            "type": "surface"
           }
          ],
          "table": [
           {
            "cells": {
             "fill": {
              "color": "#EBF0F8"
             },
             "line": {
              "color": "white"
             }
            },
            "header": {
             "fill": {
              "color": "#C8D4E3"
             },
             "line": {
              "color": "white"
             }
            },
            "type": "table"
           }
          ]
         },
         "layout": {
          "annotationdefaults": {
           "arrowcolor": "#2a3f5f",
           "arrowhead": 0,
           "arrowwidth": 1
          },
          "autotypenumbers": "strict",
          "coloraxis": {
           "colorbar": {
            "outlinewidth": 0,
            "ticks": ""
           }
          },
          "colorscale": {
           "diverging": [
            [
             0,
             "#8e0152"
            ],
            [
             0.1,
             "#c51b7d"
            ],
            [
             0.2,
             "#de77ae"
            ],
            [
             0.3,
             "#f1b6da"
            ],
            [
             0.4,
             "#fde0ef"
            ],
            [
             0.5,
             "#f7f7f7"
            ],
            [
             0.6,
             "#e6f5d0"
            ],
            [
             0.7,
             "#b8e186"
            ],
            [
             0.8,
             "#7fbc41"
            ],
            [
             0.9,
             "#4d9221"
            ],
            [
             1,
             "#276419"
            ]
           ],
           "sequential": [
            [
             0,
             "#0d0887"
            ],
            [
             0.1111111111111111,
             "#46039f"
            ],
            [
             0.2222222222222222,
             "#7201a8"
            ],
            [
             0.3333333333333333,
             "#9c179e"
            ],
            [
             0.4444444444444444,
             "#bd3786"
            ],
            [
             0.5555555555555556,
             "#d8576b"
            ],
            [
             0.6666666666666666,
             "#ed7953"
            ],
            [
             0.7777777777777778,
             "#fb9f3a"
            ],
            [
             0.8888888888888888,
             "#fdca26"
            ],
            [
             1,
             "#f0f921"
            ]
           ],
           "sequentialminus": [
            [
             0,
             "#0d0887"
            ],
            [
             0.1111111111111111,
             "#46039f"
            ],
            [
             0.2222222222222222,
             "#7201a8"
            ],
            [
             0.3333333333333333,
             "#9c179e"
            ],
            [
             0.4444444444444444,
             "#bd3786"
            ],
            [
             0.5555555555555556,
             "#d8576b"
            ],
            [
             0.6666666666666666,
             "#ed7953"
            ],
            [
             0.7777777777777778,
             "#fb9f3a"
            ],
            [
             0.8888888888888888,
             "#fdca26"
            ],
            [
             1,
             "#f0f921"
            ]
           ]
          },
          "colorway": [
           "#636efa",
           "#EF553B",
           "#00cc96",
           "#ab63fa",
           "#FFA15A",
           "#19d3f3",
           "#FF6692",
           "#B6E880",
           "#FF97FF",
           "#FECB52"
          ],
          "font": {
           "color": "#2a3f5f"
          },
          "geo": {
           "bgcolor": "white",
           "lakecolor": "white",
           "landcolor": "#E5ECF6",
           "showlakes": true,
           "showland": true,
           "subunitcolor": "white"
          },
          "hoverlabel": {
           "align": "left"
          },
          "hovermode": "closest",
          "mapbox": {
           "style": "light"
          },
          "paper_bgcolor": "white",
          "plot_bgcolor": "#E5ECF6",
          "polar": {
           "angularaxis": {
            "gridcolor": "white",
            "linecolor": "white",
            "ticks": ""
           },
           "bgcolor": "#E5ECF6",
           "radialaxis": {
            "gridcolor": "white",
            "linecolor": "white",
            "ticks": ""
           }
          },
          "scene": {
           "xaxis": {
            "backgroundcolor": "#E5ECF6",
            "gridcolor": "white",
            "gridwidth": 2,
            "linecolor": "white",
            "showbackground": true,
            "ticks": "",
            "zerolinecolor": "white"
           },
           "yaxis": {
            "backgroundcolor": "#E5ECF6",
            "gridcolor": "white",
            "gridwidth": 2,
            "linecolor": "white",
            "showbackground": true,
            "ticks": "",
            "zerolinecolor": "white"
           },
           "zaxis": {
            "backgroundcolor": "#E5ECF6",
            "gridcolor": "white",
            "gridwidth": 2,
            "linecolor": "white",
            "showbackground": true,
            "ticks": "",
            "zerolinecolor": "white"
           }
          },
          "shapedefaults": {
           "line": {
            "color": "#2a3f5f"
           }
          },
          "ternary": {
           "aaxis": {
            "gridcolor": "white",
            "linecolor": "white",
            "ticks": ""
           },
           "baxis": {
            "gridcolor": "white",
            "linecolor": "white",
            "ticks": ""
           },
           "bgcolor": "#E5ECF6",
           "caxis": {
            "gridcolor": "white",
            "linecolor": "white",
            "ticks": ""
           }
          },
          "title": {
           "x": 0.05
          },
          "xaxis": {
           "automargin": true,
           "gridcolor": "white",
           "linecolor": "white",
           "ticks": "",
           "title": {
            "standoff": 15
           },
           "zerolinecolor": "white",
           "zerolinewidth": 2
          },
          "yaxis": {
           "automargin": true,
           "gridcolor": "white",
           "linecolor": "white",
           "ticks": "",
           "title": {
            "standoff": 15
           },
           "zerolinecolor": "white",
           "zerolinewidth": 2
          }
         }
        },
        "title": {
         "text": "Confusion Matrix (Adam, Relu, Xavier, NLLLoss, With Early)"
        },
        "xaxis": {
         "dtick": 1,
         "gridcolor": "rgb(0, 0, 0)",
         "side": "top",
         "ticks": ""
        },
        "yaxis": {
         "autorange": "reversed",
         "dtick": 1,
         "ticks": "",
         "ticksuffix": "  "
        }
       }
      },
      "text/html": [
       "<div>                            <div id=\"4ba4b50c-9619-4963-8baf-eae0b8d247d5\" class=\"plotly-graph-div\" style=\"height:525px; width:100%;\"></div>            <script type=\"text/javascript\">                require([\"plotly\"], function(Plotly) {                    window.PLOTLYENV=window.PLOTLYENV || {};                                    if (document.getElementById(\"4ba4b50c-9619-4963-8baf-eae0b8d247d5\")) {                    Plotly.newPlot(                        \"4ba4b50c-9619-4963-8baf-eae0b8d247d5\",                        [{\"colorscale\":[[0.0,\"rgb(255,245,240)\"],[0.125,\"rgb(254,224,210)\"],[0.25,\"rgb(252,187,161)\"],[0.375,\"rgb(252,146,114)\"],[0.5,\"rgb(251,106,74)\"],[0.625,\"rgb(239,59,44)\"],[0.75,\"rgb(203,24,29)\"],[0.875,\"rgb(165,15,21)\"],[1.0,\"rgb(103,0,13)\"]],\"reversescale\":false,\"showscale\":true,\"x\":[\"0\",\"1\",\"2\",\"3\",\"4\",\"5\",\"6\",\"7\",\"8\",\"9\"],\"y\":[\"0\",\"1\",\"2\",\"3\",\"4\",\"5\",\"6\",\"7\",\"8\",\"9\"],\"z\":[[1006.0,0.0,0.0,0.0,1.0,2.0,2.0,2.0,1.0,0.0],[0.0,1113.0,3.0,0.0,0.0,1.0,1.0,1.0,9.0,0.0],[10.0,1.0,969.0,7.0,1.0,0.0,0.0,4.0,10.0,0.0],[0.0,0.0,5.0,984.0,0.0,13.0,0.0,12.0,1.0,5.0],[2.0,0.0,0.0,0.0,1004.0,0.0,5.0,0.0,0.0,0.0],[2.0,0.0,0.0,5.0,1.0,815.0,5.0,0.0,2.0,0.0],[0.0,1.0,0.0,0.0,3.0,2.0,929.0,0.0,4.0,0.0],[0.0,3.0,17.0,1.0,3.0,0.0,2.0,1021.0,2.0,6.0],[4.0,0.0,7.0,2.0,3.0,8.0,1.0,3.0,976.0,3.0],[4.0,2.0,2.0,4.0,67.0,8.0,2.0,4.0,8.0,893.0]],\"type\":\"heatmap\"}],                        {\"annotations\":[{\"font\":{\"color\":\"#FFFFFF\"},\"showarrow\":false,\"text\":\"1006.0\",\"x\":\"0\",\"xref\":\"x\",\"y\":\"0\",\"yref\":\"y\"},{\"font\":{\"color\":\"#000000\"},\"showarrow\":false,\"text\":\"0.0\",\"x\":\"1\",\"xref\":\"x\",\"y\":\"0\",\"yref\":\"y\"},{\"font\":{\"color\":\"#000000\"},\"showarrow\":false,\"text\":\"0.0\",\"x\":\"2\",\"xref\":\"x\",\"y\":\"0\",\"yref\":\"y\"},{\"font\":{\"color\":\"#000000\"},\"showarrow\":false,\"text\":\"0.0\",\"x\":\"3\",\"xref\":\"x\",\"y\":\"0\",\"yref\":\"y\"},{\"font\":{\"color\":\"#000000\"},\"showarrow\":false,\"text\":\"1.0\",\"x\":\"4\",\"xref\":\"x\",\"y\":\"0\",\"yref\":\"y\"},{\"font\":{\"color\":\"#000000\"},\"showarrow\":false,\"text\":\"2.0\",\"x\":\"5\",\"xref\":\"x\",\"y\":\"0\",\"yref\":\"y\"},{\"font\":{\"color\":\"#000000\"},\"showarrow\":false,\"text\":\"2.0\",\"x\":\"6\",\"xref\":\"x\",\"y\":\"0\",\"yref\":\"y\"},{\"font\":{\"color\":\"#000000\"},\"showarrow\":false,\"text\":\"2.0\",\"x\":\"7\",\"xref\":\"x\",\"y\":\"0\",\"yref\":\"y\"},{\"font\":{\"color\":\"#000000\"},\"showarrow\":false,\"text\":\"1.0\",\"x\":\"8\",\"xref\":\"x\",\"y\":\"0\",\"yref\":\"y\"},{\"font\":{\"color\":\"#000000\"},\"showarrow\":false,\"text\":\"0.0\",\"x\":\"9\",\"xref\":\"x\",\"y\":\"0\",\"yref\":\"y\"},{\"font\":{\"color\":\"#000000\"},\"showarrow\":false,\"text\":\"0.0\",\"x\":\"0\",\"xref\":\"x\",\"y\":\"1\",\"yref\":\"y\"},{\"font\":{\"color\":\"#FFFFFF\"},\"showarrow\":false,\"text\":\"1113.0\",\"x\":\"1\",\"xref\":\"x\",\"y\":\"1\",\"yref\":\"y\"},{\"font\":{\"color\":\"#000000\"},\"showarrow\":false,\"text\":\"3.0\",\"x\":\"2\",\"xref\":\"x\",\"y\":\"1\",\"yref\":\"y\"},{\"font\":{\"color\":\"#000000\"},\"showarrow\":false,\"text\":\"0.0\",\"x\":\"3\",\"xref\":\"x\",\"y\":\"1\",\"yref\":\"y\"},{\"font\":{\"color\":\"#000000\"},\"showarrow\":false,\"text\":\"0.0\",\"x\":\"4\",\"xref\":\"x\",\"y\":\"1\",\"yref\":\"y\"},{\"font\":{\"color\":\"#000000\"},\"showarrow\":false,\"text\":\"1.0\",\"x\":\"5\",\"xref\":\"x\",\"y\":\"1\",\"yref\":\"y\"},{\"font\":{\"color\":\"#000000\"},\"showarrow\":false,\"text\":\"1.0\",\"x\":\"6\",\"xref\":\"x\",\"y\":\"1\",\"yref\":\"y\"},{\"font\":{\"color\":\"#000000\"},\"showarrow\":false,\"text\":\"1.0\",\"x\":\"7\",\"xref\":\"x\",\"y\":\"1\",\"yref\":\"y\"},{\"font\":{\"color\":\"#000000\"},\"showarrow\":false,\"text\":\"9.0\",\"x\":\"8\",\"xref\":\"x\",\"y\":\"1\",\"yref\":\"y\"},{\"font\":{\"color\":\"#000000\"},\"showarrow\":false,\"text\":\"0.0\",\"x\":\"9\",\"xref\":\"x\",\"y\":\"1\",\"yref\":\"y\"},{\"font\":{\"color\":\"#000000\"},\"showarrow\":false,\"text\":\"10.0\",\"x\":\"0\",\"xref\":\"x\",\"y\":\"2\",\"yref\":\"y\"},{\"font\":{\"color\":\"#000000\"},\"showarrow\":false,\"text\":\"1.0\",\"x\":\"1\",\"xref\":\"x\",\"y\":\"2\",\"yref\":\"y\"},{\"font\":{\"color\":\"#FFFFFF\"},\"showarrow\":false,\"text\":\"969.0\",\"x\":\"2\",\"xref\":\"x\",\"y\":\"2\",\"yref\":\"y\"},{\"font\":{\"color\":\"#000000\"},\"showarrow\":false,\"text\":\"7.0\",\"x\":\"3\",\"xref\":\"x\",\"y\":\"2\",\"yref\":\"y\"},{\"font\":{\"color\":\"#000000\"},\"showarrow\":false,\"text\":\"1.0\",\"x\":\"4\",\"xref\":\"x\",\"y\":\"2\",\"yref\":\"y\"},{\"font\":{\"color\":\"#000000\"},\"showarrow\":false,\"text\":\"0.0\",\"x\":\"5\",\"xref\":\"x\",\"y\":\"2\",\"yref\":\"y\"},{\"font\":{\"color\":\"#000000\"},\"showarrow\":false,\"text\":\"0.0\",\"x\":\"6\",\"xref\":\"x\",\"y\":\"2\",\"yref\":\"y\"},{\"font\":{\"color\":\"#000000\"},\"showarrow\":false,\"text\":\"4.0\",\"x\":\"7\",\"xref\":\"x\",\"y\":\"2\",\"yref\":\"y\"},{\"font\":{\"color\":\"#000000\"},\"showarrow\":false,\"text\":\"10.0\",\"x\":\"8\",\"xref\":\"x\",\"y\":\"2\",\"yref\":\"y\"},{\"font\":{\"color\":\"#000000\"},\"showarrow\":false,\"text\":\"0.0\",\"x\":\"9\",\"xref\":\"x\",\"y\":\"2\",\"yref\":\"y\"},{\"font\":{\"color\":\"#000000\"},\"showarrow\":false,\"text\":\"0.0\",\"x\":\"0\",\"xref\":\"x\",\"y\":\"3\",\"yref\":\"y\"},{\"font\":{\"color\":\"#000000\"},\"showarrow\":false,\"text\":\"0.0\",\"x\":\"1\",\"xref\":\"x\",\"y\":\"3\",\"yref\":\"y\"},{\"font\":{\"color\":\"#000000\"},\"showarrow\":false,\"text\":\"5.0\",\"x\":\"2\",\"xref\":\"x\",\"y\":\"3\",\"yref\":\"y\"},{\"font\":{\"color\":\"#FFFFFF\"},\"showarrow\":false,\"text\":\"984.0\",\"x\":\"3\",\"xref\":\"x\",\"y\":\"3\",\"yref\":\"y\"},{\"font\":{\"color\":\"#000000\"},\"showarrow\":false,\"text\":\"0.0\",\"x\":\"4\",\"xref\":\"x\",\"y\":\"3\",\"yref\":\"y\"},{\"font\":{\"color\":\"#000000\"},\"showarrow\":false,\"text\":\"13.0\",\"x\":\"5\",\"xref\":\"x\",\"y\":\"3\",\"yref\":\"y\"},{\"font\":{\"color\":\"#000000\"},\"showarrow\":false,\"text\":\"0.0\",\"x\":\"6\",\"xref\":\"x\",\"y\":\"3\",\"yref\":\"y\"},{\"font\":{\"color\":\"#000000\"},\"showarrow\":false,\"text\":\"12.0\",\"x\":\"7\",\"xref\":\"x\",\"y\":\"3\",\"yref\":\"y\"},{\"font\":{\"color\":\"#000000\"},\"showarrow\":false,\"text\":\"1.0\",\"x\":\"8\",\"xref\":\"x\",\"y\":\"3\",\"yref\":\"y\"},{\"font\":{\"color\":\"#000000\"},\"showarrow\":false,\"text\":\"5.0\",\"x\":\"9\",\"xref\":\"x\",\"y\":\"3\",\"yref\":\"y\"},{\"font\":{\"color\":\"#000000\"},\"showarrow\":false,\"text\":\"2.0\",\"x\":\"0\",\"xref\":\"x\",\"y\":\"4\",\"yref\":\"y\"},{\"font\":{\"color\":\"#000000\"},\"showarrow\":false,\"text\":\"0.0\",\"x\":\"1\",\"xref\":\"x\",\"y\":\"4\",\"yref\":\"y\"},{\"font\":{\"color\":\"#000000\"},\"showarrow\":false,\"text\":\"0.0\",\"x\":\"2\",\"xref\":\"x\",\"y\":\"4\",\"yref\":\"y\"},{\"font\":{\"color\":\"#000000\"},\"showarrow\":false,\"text\":\"0.0\",\"x\":\"3\",\"xref\":\"x\",\"y\":\"4\",\"yref\":\"y\"},{\"font\":{\"color\":\"#FFFFFF\"},\"showarrow\":false,\"text\":\"1004.0\",\"x\":\"4\",\"xref\":\"x\",\"y\":\"4\",\"yref\":\"y\"},{\"font\":{\"color\":\"#000000\"},\"showarrow\":false,\"text\":\"0.0\",\"x\":\"5\",\"xref\":\"x\",\"y\":\"4\",\"yref\":\"y\"},{\"font\":{\"color\":\"#000000\"},\"showarrow\":false,\"text\":\"5.0\",\"x\":\"6\",\"xref\":\"x\",\"y\":\"4\",\"yref\":\"y\"},{\"font\":{\"color\":\"#000000\"},\"showarrow\":false,\"text\":\"0.0\",\"x\":\"7\",\"xref\":\"x\",\"y\":\"4\",\"yref\":\"y\"},{\"font\":{\"color\":\"#000000\"},\"showarrow\":false,\"text\":\"0.0\",\"x\":\"8\",\"xref\":\"x\",\"y\":\"4\",\"yref\":\"y\"},{\"font\":{\"color\":\"#000000\"},\"showarrow\":false,\"text\":\"0.0\",\"x\":\"9\",\"xref\":\"x\",\"y\":\"4\",\"yref\":\"y\"},{\"font\":{\"color\":\"#000000\"},\"showarrow\":false,\"text\":\"2.0\",\"x\":\"0\",\"xref\":\"x\",\"y\":\"5\",\"yref\":\"y\"},{\"font\":{\"color\":\"#000000\"},\"showarrow\":false,\"text\":\"0.0\",\"x\":\"1\",\"xref\":\"x\",\"y\":\"5\",\"yref\":\"y\"},{\"font\":{\"color\":\"#000000\"},\"showarrow\":false,\"text\":\"0.0\",\"x\":\"2\",\"xref\":\"x\",\"y\":\"5\",\"yref\":\"y\"},{\"font\":{\"color\":\"#000000\"},\"showarrow\":false,\"text\":\"5.0\",\"x\":\"3\",\"xref\":\"x\",\"y\":\"5\",\"yref\":\"y\"},{\"font\":{\"color\":\"#000000\"},\"showarrow\":false,\"text\":\"1.0\",\"x\":\"4\",\"xref\":\"x\",\"y\":\"5\",\"yref\":\"y\"},{\"font\":{\"color\":\"#FFFFFF\"},\"showarrow\":false,\"text\":\"815.0\",\"x\":\"5\",\"xref\":\"x\",\"y\":\"5\",\"yref\":\"y\"},{\"font\":{\"color\":\"#000000\"},\"showarrow\":false,\"text\":\"5.0\",\"x\":\"6\",\"xref\":\"x\",\"y\":\"5\",\"yref\":\"y\"},{\"font\":{\"color\":\"#000000\"},\"showarrow\":false,\"text\":\"0.0\",\"x\":\"7\",\"xref\":\"x\",\"y\":\"5\",\"yref\":\"y\"},{\"font\":{\"color\":\"#000000\"},\"showarrow\":false,\"text\":\"2.0\",\"x\":\"8\",\"xref\":\"x\",\"y\":\"5\",\"yref\":\"y\"},{\"font\":{\"color\":\"#000000\"},\"showarrow\":false,\"text\":\"0.0\",\"x\":\"9\",\"xref\":\"x\",\"y\":\"5\",\"yref\":\"y\"},{\"font\":{\"color\":\"#000000\"},\"showarrow\":false,\"text\":\"0.0\",\"x\":\"0\",\"xref\":\"x\",\"y\":\"6\",\"yref\":\"y\"},{\"font\":{\"color\":\"#000000\"},\"showarrow\":false,\"text\":\"1.0\",\"x\":\"1\",\"xref\":\"x\",\"y\":\"6\",\"yref\":\"y\"},{\"font\":{\"color\":\"#000000\"},\"showarrow\":false,\"text\":\"0.0\",\"x\":\"2\",\"xref\":\"x\",\"y\":\"6\",\"yref\":\"y\"},{\"font\":{\"color\":\"#000000\"},\"showarrow\":false,\"text\":\"0.0\",\"x\":\"3\",\"xref\":\"x\",\"y\":\"6\",\"yref\":\"y\"},{\"font\":{\"color\":\"#000000\"},\"showarrow\":false,\"text\":\"3.0\",\"x\":\"4\",\"xref\":\"x\",\"y\":\"6\",\"yref\":\"y\"},{\"font\":{\"color\":\"#000000\"},\"showarrow\":false,\"text\":\"2.0\",\"x\":\"5\",\"xref\":\"x\",\"y\":\"6\",\"yref\":\"y\"},{\"font\":{\"color\":\"#FFFFFF\"},\"showarrow\":false,\"text\":\"929.0\",\"x\":\"6\",\"xref\":\"x\",\"y\":\"6\",\"yref\":\"y\"},{\"font\":{\"color\":\"#000000\"},\"showarrow\":false,\"text\":\"0.0\",\"x\":\"7\",\"xref\":\"x\",\"y\":\"6\",\"yref\":\"y\"},{\"font\":{\"color\":\"#000000\"},\"showarrow\":false,\"text\":\"4.0\",\"x\":\"8\",\"xref\":\"x\",\"y\":\"6\",\"yref\":\"y\"},{\"font\":{\"color\":\"#000000\"},\"showarrow\":false,\"text\":\"0.0\",\"x\":\"9\",\"xref\":\"x\",\"y\":\"6\",\"yref\":\"y\"},{\"font\":{\"color\":\"#000000\"},\"showarrow\":false,\"text\":\"0.0\",\"x\":\"0\",\"xref\":\"x\",\"y\":\"7\",\"yref\":\"y\"},{\"font\":{\"color\":\"#000000\"},\"showarrow\":false,\"text\":\"3.0\",\"x\":\"1\",\"xref\":\"x\",\"y\":\"7\",\"yref\":\"y\"},{\"font\":{\"color\":\"#000000\"},\"showarrow\":false,\"text\":\"17.0\",\"x\":\"2\",\"xref\":\"x\",\"y\":\"7\",\"yref\":\"y\"},{\"font\":{\"color\":\"#000000\"},\"showarrow\":false,\"text\":\"1.0\",\"x\":\"3\",\"xref\":\"x\",\"y\":\"7\",\"yref\":\"y\"},{\"font\":{\"color\":\"#000000\"},\"showarrow\":false,\"text\":\"3.0\",\"x\":\"4\",\"xref\":\"x\",\"y\":\"7\",\"yref\":\"y\"},{\"font\":{\"color\":\"#000000\"},\"showarrow\":false,\"text\":\"0.0\",\"x\":\"5\",\"xref\":\"x\",\"y\":\"7\",\"yref\":\"y\"},{\"font\":{\"color\":\"#000000\"},\"showarrow\":false,\"text\":\"2.0\",\"x\":\"6\",\"xref\":\"x\",\"y\":\"7\",\"yref\":\"y\"},{\"font\":{\"color\":\"#FFFFFF\"},\"showarrow\":false,\"text\":\"1021.0\",\"x\":\"7\",\"xref\":\"x\",\"y\":\"7\",\"yref\":\"y\"},{\"font\":{\"color\":\"#000000\"},\"showarrow\":false,\"text\":\"2.0\",\"x\":\"8\",\"xref\":\"x\",\"y\":\"7\",\"yref\":\"y\"},{\"font\":{\"color\":\"#000000\"},\"showarrow\":false,\"text\":\"6.0\",\"x\":\"9\",\"xref\":\"x\",\"y\":\"7\",\"yref\":\"y\"},{\"font\":{\"color\":\"#000000\"},\"showarrow\":false,\"text\":\"4.0\",\"x\":\"0\",\"xref\":\"x\",\"y\":\"8\",\"yref\":\"y\"},{\"font\":{\"color\":\"#000000\"},\"showarrow\":false,\"text\":\"0.0\",\"x\":\"1\",\"xref\":\"x\",\"y\":\"8\",\"yref\":\"y\"},{\"font\":{\"color\":\"#000000\"},\"showarrow\":false,\"text\":\"7.0\",\"x\":\"2\",\"xref\":\"x\",\"y\":\"8\",\"yref\":\"y\"},{\"font\":{\"color\":\"#000000\"},\"showarrow\":false,\"text\":\"2.0\",\"x\":\"3\",\"xref\":\"x\",\"y\":\"8\",\"yref\":\"y\"},{\"font\":{\"color\":\"#000000\"},\"showarrow\":false,\"text\":\"3.0\",\"x\":\"4\",\"xref\":\"x\",\"y\":\"8\",\"yref\":\"y\"},{\"font\":{\"color\":\"#000000\"},\"showarrow\":false,\"text\":\"8.0\",\"x\":\"5\",\"xref\":\"x\",\"y\":\"8\",\"yref\":\"y\"},{\"font\":{\"color\":\"#000000\"},\"showarrow\":false,\"text\":\"1.0\",\"x\":\"6\",\"xref\":\"x\",\"y\":\"8\",\"yref\":\"y\"},{\"font\":{\"color\":\"#000000\"},\"showarrow\":false,\"text\":\"3.0\",\"x\":\"7\",\"xref\":\"x\",\"y\":\"8\",\"yref\":\"y\"},{\"font\":{\"color\":\"#FFFFFF\"},\"showarrow\":false,\"text\":\"976.0\",\"x\":\"8\",\"xref\":\"x\",\"y\":\"8\",\"yref\":\"y\"},{\"font\":{\"color\":\"#000000\"},\"showarrow\":false,\"text\":\"3.0\",\"x\":\"9\",\"xref\":\"x\",\"y\":\"8\",\"yref\":\"y\"},{\"font\":{\"color\":\"#000000\"},\"showarrow\":false,\"text\":\"4.0\",\"x\":\"0\",\"xref\":\"x\",\"y\":\"9\",\"yref\":\"y\"},{\"font\":{\"color\":\"#000000\"},\"showarrow\":false,\"text\":\"2.0\",\"x\":\"1\",\"xref\":\"x\",\"y\":\"9\",\"yref\":\"y\"},{\"font\":{\"color\":\"#000000\"},\"showarrow\":false,\"text\":\"2.0\",\"x\":\"2\",\"xref\":\"x\",\"y\":\"9\",\"yref\":\"y\"},{\"font\":{\"color\":\"#000000\"},\"showarrow\":false,\"text\":\"4.0\",\"x\":\"3\",\"xref\":\"x\",\"y\":\"9\",\"yref\":\"y\"},{\"font\":{\"color\":\"#000000\"},\"showarrow\":false,\"text\":\"67.0\",\"x\":\"4\",\"xref\":\"x\",\"y\":\"9\",\"yref\":\"y\"},{\"font\":{\"color\":\"#000000\"},\"showarrow\":false,\"text\":\"8.0\",\"x\":\"5\",\"xref\":\"x\",\"y\":\"9\",\"yref\":\"y\"},{\"font\":{\"color\":\"#000000\"},\"showarrow\":false,\"text\":\"2.0\",\"x\":\"6\",\"xref\":\"x\",\"y\":\"9\",\"yref\":\"y\"},{\"font\":{\"color\":\"#000000\"},\"showarrow\":false,\"text\":\"4.0\",\"x\":\"7\",\"xref\":\"x\",\"y\":\"9\",\"yref\":\"y\"},{\"font\":{\"color\":\"#000000\"},\"showarrow\":false,\"text\":\"8.0\",\"x\":\"8\",\"xref\":\"x\",\"y\":\"9\",\"yref\":\"y\"},{\"font\":{\"color\":\"#FFFFFF\"},\"showarrow\":false,\"text\":\"893.0\",\"x\":\"9\",\"xref\":\"x\",\"y\":\"9\",\"yref\":\"y\"},{\"font\":{\"color\":\"black\",\"size\":13},\"showarrow\":false,\"text\":\"Predicted Value\",\"x\":0.5,\"xref\":\"paper\",\"y\":-0.15,\"yref\":\"paper\"},{\"font\":{\"color\":\"black\",\"size\":13},\"showarrow\":false,\"text\":\"Real Value\",\"textangle\":-90,\"x\":-0.2,\"xref\":\"paper\",\"y\":0.5,\"yref\":\"paper\"}],\"xaxis\":{\"dtick\":1,\"gridcolor\":\"rgb(0, 0, 0)\",\"side\":\"top\",\"ticks\":\"\"},\"yaxis\":{\"dtick\":1,\"ticks\":\"\",\"ticksuffix\":\"  \",\"autorange\":\"reversed\"},\"template\":{\"data\":{\"histogram2dcontour\":[{\"type\":\"histogram2dcontour\",\"colorbar\":{\"outlinewidth\":0,\"ticks\":\"\"},\"colorscale\":[[0.0,\"#0d0887\"],[0.1111111111111111,\"#46039f\"],[0.2222222222222222,\"#7201a8\"],[0.3333333333333333,\"#9c179e\"],[0.4444444444444444,\"#bd3786\"],[0.5555555555555556,\"#d8576b\"],[0.6666666666666666,\"#ed7953\"],[0.7777777777777778,\"#fb9f3a\"],[0.8888888888888888,\"#fdca26\"],[1.0,\"#f0f921\"]]}],\"choropleth\":[{\"type\":\"choropleth\",\"colorbar\":{\"outlinewidth\":0,\"ticks\":\"\"}}],\"histogram2d\":[{\"type\":\"histogram2d\",\"colorbar\":{\"outlinewidth\":0,\"ticks\":\"\"},\"colorscale\":[[0.0,\"#0d0887\"],[0.1111111111111111,\"#46039f\"],[0.2222222222222222,\"#7201a8\"],[0.3333333333333333,\"#9c179e\"],[0.4444444444444444,\"#bd3786\"],[0.5555555555555556,\"#d8576b\"],[0.6666666666666666,\"#ed7953\"],[0.7777777777777778,\"#fb9f3a\"],[0.8888888888888888,\"#fdca26\"],[1.0,\"#f0f921\"]]}],\"heatmap\":[{\"type\":\"heatmap\",\"colorbar\":{\"outlinewidth\":0,\"ticks\":\"\"},\"colorscale\":[[0.0,\"#0d0887\"],[0.1111111111111111,\"#46039f\"],[0.2222222222222222,\"#7201a8\"],[0.3333333333333333,\"#9c179e\"],[0.4444444444444444,\"#bd3786\"],[0.5555555555555556,\"#d8576b\"],[0.6666666666666666,\"#ed7953\"],[0.7777777777777778,\"#fb9f3a\"],[0.8888888888888888,\"#fdca26\"],[1.0,\"#f0f921\"]]}],\"heatmapgl\":[{\"type\":\"heatmapgl\",\"colorbar\":{\"outlinewidth\":0,\"ticks\":\"\"},\"colorscale\":[[0.0,\"#0d0887\"],[0.1111111111111111,\"#46039f\"],[0.2222222222222222,\"#7201a8\"],[0.3333333333333333,\"#9c179e\"],[0.4444444444444444,\"#bd3786\"],[0.5555555555555556,\"#d8576b\"],[0.6666666666666666,\"#ed7953\"],[0.7777777777777778,\"#fb9f3a\"],[0.8888888888888888,\"#fdca26\"],[1.0,\"#f0f921\"]]}],\"contourcarpet\":[{\"type\":\"contourcarpet\",\"colorbar\":{\"outlinewidth\":0,\"ticks\":\"\"}}],\"contour\":[{\"type\":\"contour\",\"colorbar\":{\"outlinewidth\":0,\"ticks\":\"\"},\"colorscale\":[[0.0,\"#0d0887\"],[0.1111111111111111,\"#46039f\"],[0.2222222222222222,\"#7201a8\"],[0.3333333333333333,\"#9c179e\"],[0.4444444444444444,\"#bd3786\"],[0.5555555555555556,\"#d8576b\"],[0.6666666666666666,\"#ed7953\"],[0.7777777777777778,\"#fb9f3a\"],[0.8888888888888888,\"#fdca26\"],[1.0,\"#f0f921\"]]}],\"surface\":[{\"type\":\"surface\",\"colorbar\":{\"outlinewidth\":0,\"ticks\":\"\"},\"colorscale\":[[0.0,\"#0d0887\"],[0.1111111111111111,\"#46039f\"],[0.2222222222222222,\"#7201a8\"],[0.3333333333333333,\"#9c179e\"],[0.4444444444444444,\"#bd3786\"],[0.5555555555555556,\"#d8576b\"],[0.6666666666666666,\"#ed7953\"],[0.7777777777777778,\"#fb9f3a\"],[0.8888888888888888,\"#fdca26\"],[1.0,\"#f0f921\"]]}],\"mesh3d\":[{\"type\":\"mesh3d\",\"colorbar\":{\"outlinewidth\":0,\"ticks\":\"\"}}],\"scatter\":[{\"fillpattern\":{\"fillmode\":\"overlay\",\"size\":10,\"solidity\":0.2},\"type\":\"scatter\"}],\"parcoords\":[{\"type\":\"parcoords\",\"line\":{\"colorbar\":{\"outlinewidth\":0,\"ticks\":\"\"}}}],\"scatterpolargl\":[{\"type\":\"scatterpolargl\",\"marker\":{\"colorbar\":{\"outlinewidth\":0,\"ticks\":\"\"}}}],\"bar\":[{\"error_x\":{\"color\":\"#2a3f5f\"},\"error_y\":{\"color\":\"#2a3f5f\"},\"marker\":{\"line\":{\"color\":\"#E5ECF6\",\"width\":0.5},\"pattern\":{\"fillmode\":\"overlay\",\"size\":10,\"solidity\":0.2}},\"type\":\"bar\"}],\"scattergeo\":[{\"type\":\"scattergeo\",\"marker\":{\"colorbar\":{\"outlinewidth\":0,\"ticks\":\"\"}}}],\"scatterpolar\":[{\"type\":\"scatterpolar\",\"marker\":{\"colorbar\":{\"outlinewidth\":0,\"ticks\":\"\"}}}],\"histogram\":[{\"marker\":{\"pattern\":{\"fillmode\":\"overlay\",\"size\":10,\"solidity\":0.2}},\"type\":\"histogram\"}],\"scattergl\":[{\"type\":\"scattergl\",\"marker\":{\"colorbar\":{\"outlinewidth\":0,\"ticks\":\"\"}}}],\"scatter3d\":[{\"type\":\"scatter3d\",\"line\":{\"colorbar\":{\"outlinewidth\":0,\"ticks\":\"\"}},\"marker\":{\"colorbar\":{\"outlinewidth\":0,\"ticks\":\"\"}}}],\"scattermapbox\":[{\"type\":\"scattermapbox\",\"marker\":{\"colorbar\":{\"outlinewidth\":0,\"ticks\":\"\"}}}],\"scatterternary\":[{\"type\":\"scatterternary\",\"marker\":{\"colorbar\":{\"outlinewidth\":0,\"ticks\":\"\"}}}],\"scattercarpet\":[{\"type\":\"scattercarpet\",\"marker\":{\"colorbar\":{\"outlinewidth\":0,\"ticks\":\"\"}}}],\"carpet\":[{\"aaxis\":{\"endlinecolor\":\"#2a3f5f\",\"gridcolor\":\"white\",\"linecolor\":\"white\",\"minorgridcolor\":\"white\",\"startlinecolor\":\"#2a3f5f\"},\"baxis\":{\"endlinecolor\":\"#2a3f5f\",\"gridcolor\":\"white\",\"linecolor\":\"white\",\"minorgridcolor\":\"white\",\"startlinecolor\":\"#2a3f5f\"},\"type\":\"carpet\"}],\"table\":[{\"cells\":{\"fill\":{\"color\":\"#EBF0F8\"},\"line\":{\"color\":\"white\"}},\"header\":{\"fill\":{\"color\":\"#C8D4E3\"},\"line\":{\"color\":\"white\"}},\"type\":\"table\"}],\"barpolar\":[{\"marker\":{\"line\":{\"color\":\"#E5ECF6\",\"width\":0.5},\"pattern\":{\"fillmode\":\"overlay\",\"size\":10,\"solidity\":0.2}},\"type\":\"barpolar\"}],\"pie\":[{\"automargin\":true,\"type\":\"pie\"}]},\"layout\":{\"autotypenumbers\":\"strict\",\"colorway\":[\"#636efa\",\"#EF553B\",\"#00cc96\",\"#ab63fa\",\"#FFA15A\",\"#19d3f3\",\"#FF6692\",\"#B6E880\",\"#FF97FF\",\"#FECB52\"],\"font\":{\"color\":\"#2a3f5f\"},\"hovermode\":\"closest\",\"hoverlabel\":{\"align\":\"left\"},\"paper_bgcolor\":\"white\",\"plot_bgcolor\":\"#E5ECF6\",\"polar\":{\"bgcolor\":\"#E5ECF6\",\"angularaxis\":{\"gridcolor\":\"white\",\"linecolor\":\"white\",\"ticks\":\"\"},\"radialaxis\":{\"gridcolor\":\"white\",\"linecolor\":\"white\",\"ticks\":\"\"}},\"ternary\":{\"bgcolor\":\"#E5ECF6\",\"aaxis\":{\"gridcolor\":\"white\",\"linecolor\":\"white\",\"ticks\":\"\"},\"baxis\":{\"gridcolor\":\"white\",\"linecolor\":\"white\",\"ticks\":\"\"},\"caxis\":{\"gridcolor\":\"white\",\"linecolor\":\"white\",\"ticks\":\"\"}},\"coloraxis\":{\"colorbar\":{\"outlinewidth\":0,\"ticks\":\"\"}},\"colorscale\":{\"sequential\":[[0.0,\"#0d0887\"],[0.1111111111111111,\"#46039f\"],[0.2222222222222222,\"#7201a8\"],[0.3333333333333333,\"#9c179e\"],[0.4444444444444444,\"#bd3786\"],[0.5555555555555556,\"#d8576b\"],[0.6666666666666666,\"#ed7953\"],[0.7777777777777778,\"#fb9f3a\"],[0.8888888888888888,\"#fdca26\"],[1.0,\"#f0f921\"]],\"sequentialminus\":[[0.0,\"#0d0887\"],[0.1111111111111111,\"#46039f\"],[0.2222222222222222,\"#7201a8\"],[0.3333333333333333,\"#9c179e\"],[0.4444444444444444,\"#bd3786\"],[0.5555555555555556,\"#d8576b\"],[0.6666666666666666,\"#ed7953\"],[0.7777777777777778,\"#fb9f3a\"],[0.8888888888888888,\"#fdca26\"],[1.0,\"#f0f921\"]],\"diverging\":[[0,\"#8e0152\"],[0.1,\"#c51b7d\"],[0.2,\"#de77ae\"],[0.3,\"#f1b6da\"],[0.4,\"#fde0ef\"],[0.5,\"#f7f7f7\"],[0.6,\"#e6f5d0\"],[0.7,\"#b8e186\"],[0.8,\"#7fbc41\"],[0.9,\"#4d9221\"],[1,\"#276419\"]]},\"xaxis\":{\"gridcolor\":\"white\",\"linecolor\":\"white\",\"ticks\":\"\",\"title\":{\"standoff\":15},\"zerolinecolor\":\"white\",\"automargin\":true,\"zerolinewidth\":2},\"yaxis\":{\"gridcolor\":\"white\",\"linecolor\":\"white\",\"ticks\":\"\",\"title\":{\"standoff\":15},\"zerolinecolor\":\"white\",\"automargin\":true,\"zerolinewidth\":2},\"scene\":{\"xaxis\":{\"backgroundcolor\":\"#E5ECF6\",\"gridcolor\":\"white\",\"linecolor\":\"white\",\"showbackground\":true,\"ticks\":\"\",\"zerolinecolor\":\"white\",\"gridwidth\":2},\"yaxis\":{\"backgroundcolor\":\"#E5ECF6\",\"gridcolor\":\"white\",\"linecolor\":\"white\",\"showbackground\":true,\"ticks\":\"\",\"zerolinecolor\":\"white\",\"gridwidth\":2},\"zaxis\":{\"backgroundcolor\":\"#E5ECF6\",\"gridcolor\":\"white\",\"linecolor\":\"white\",\"showbackground\":true,\"ticks\":\"\",\"zerolinecolor\":\"white\",\"gridwidth\":2}},\"shapedefaults\":{\"line\":{\"color\":\"#2a3f5f\"}},\"annotationdefaults\":{\"arrowcolor\":\"#2a3f5f\",\"arrowhead\":0,\"arrowwidth\":1},\"geo\":{\"bgcolor\":\"white\",\"landcolor\":\"#E5ECF6\",\"subunitcolor\":\"white\",\"showland\":true,\"showlakes\":true,\"lakecolor\":\"white\"},\"title\":{\"x\":0.05},\"mapbox\":{\"style\":\"light\"}}},\"title\":{\"text\":\"Confusion Matrix (Adam, Relu, Xavier, NLLLoss, With Early)\"},\"margin\":{\"t\":50,\"l\":200}},                        {\"responsive\": true}                    ).then(function(){\n",
       "                            \n",
       "var gd = document.getElementById('4ba4b50c-9619-4963-8baf-eae0b8d247d5');\n",
       "var x = new MutationObserver(function (mutations, observer) {{\n",
       "        var display = window.getComputedStyle(gd).display;\n",
       "        if (!display || display === 'none') {{\n",
       "            console.log([gd, 'removed!']);\n",
       "            Plotly.purge(gd);\n",
       "            observer.disconnect();\n",
       "        }}\n",
       "}});\n",
       "\n",
       "// Listen for the removal of the full notebook cells\n",
       "var notebookContainer = gd.closest('#notebook-container');\n",
       "if (notebookContainer) {{\n",
       "    x.observe(notebookContainer, {childList: true});\n",
       "}}\n",
       "\n",
       "// Listen for the clearing of the current output cell\n",
       "var outputEl = gd.closest('.output');\n",
       "if (outputEl) {{\n",
       "    x.observe(outputEl, {childList: true});\n",
       "}}\n",
       "\n",
       "                        })                };                });            </script>        </div>"
      ]
     },
     "metadata": {},
     "output_type": "display_data"
    }
   ],
   "source": [
    "import plotly\n",
    "import plotly.figure_factory as ff\n",
    "\n",
    "def cm_plot(cm, labels):\n",
    "    x = labels\n",
    "    y = labels\n",
    "\n",
    "    z_text = [[str(y) for y in x] for x in cm]\n",
    "    fig = ff.create_annotated_heatmap(cm, x=x, y=y, annotation_text=z_text, colorscale='reds')\n",
    "\n",
    "    fig.update_layout(title_text='Confusion Matrix (Adam, Relu, Xavier, NLLLoss, With Early)')\n",
    "\n",
    "    fig.add_annotation(dict(font=dict(color=\"black\",size=13),\n",
    "                            x=0.5,\n",
    "                            y=-0.15,\n",
    "                            showarrow=False,\n",
    "                            text=\"Predicted Value\",\n",
    "                            xref=\"paper\",\n",
    "                            yref=\"paper\"\n",
    "                           ))\n",
    "\n",
    "    fig.add_annotation(dict(font=dict(color=\"black\",size=13),\n",
    "                            x=-0.20,\n",
    "                            y=0.5,\n",
    "                            showarrow=False,\n",
    "                            text=\"Real Value\",\n",
    "                            textangle=-90,\n",
    "                            xref=\"paper\",\n",
    "                            yref=\"paper\"\n",
    "                           ))\n",
    "\n",
    "    fig.update_layout(margin=dict(t=50, l=200))\n",
    "    fig['layout']['yaxis']['autorange'] = \"reversed\"\n",
    "\n",
    "    fig['data'][0]['showscale'] = True\n",
    "    fig.show()\n",
    "    \n",
    "labels = ['0','1','2','3','4','5','6','7','8','9']\n",
    "cm_plot(confusion, labels)"
   ]
  },
  {
   "cell_type": "markdown",
   "id": "5ae06b1f",
   "metadata": {},
   "source": [
    "# Test "
   ]
  },
  {
   "cell_type": "code",
   "execution_count": 42,
   "id": "4d4c8c20",
   "metadata": {},
   "outputs": [
    {
     "name": "stdout",
     "output_type": "stream",
     "text": [
      "Predicted Hand-written Digit = 3\n"
     ]
    },
    {
     "data": {
      "image/png": "[encoded data removed]",
      "text/plain": [
       "<Figure size 432x288 with 1 Axes>"
      ]
     },
     "metadata": {
      "needs_background": "light"
     },
     "output_type": "display_data"
    }
   ],
   "source": [
    "# Using cv2.imread() method \n",
    "# Using 0 to read image in grayscale mode \n",
    "img = cv2.imread('num3.png', 0)  # You will need to change the filename\n",
    "\n",
    "# resize image to 28x28\n",
    "img = cv2.resize(img, (28,28))\n",
    "\n",
    "# flip the image color\n",
    "# this is optional; and feel free to change it\n",
    "for i in range(0,img.shape[0]):\n",
    "  for j in range(0,img.shape[1]):\n",
    "    if img[i,j]>125:\n",
    "      img[i,j] = 0\n",
    "    else:\n",
    "      img[i,j] = 255 - img[i,j]\n",
    "\n",
    "# plot the processed image\n",
    "plt.imshow(img, cmap='gray_r')\n",
    "\n",
    "# input the processed image to the network and make prediction\n",
    "img = transform(img).view(1, 784)\n",
    "with torch.no_grad():\n",
    "    logps = model(img)\n",
    "ps = torch.exp(logps)\n",
    "probab = list(ps.numpy()[0])\n",
    "print(\"Predicted Hand-written Digit =\", probab.index(max(probab)))"
   ]
  }
 ],
 "metadata": {
  "kernelspec": {
   "display_name": "Python 3 (ipykernel)",
   "language": "python",
   "name": "python3"
  },
  "language_info": {
   "codemirror_mode": {
    "name": "ipython",
    "version": 3
   },
   "file_extension": ".py",
   "mimetype": "text/x-python",
   "name": "python",
   "nbconvert_exporter": "python",
   "pygments_lexer": "ipython3",
   "version": "3.9.10"
  }
 },
 "nbformat": 4,
 "nbformat_minor": 5
}
